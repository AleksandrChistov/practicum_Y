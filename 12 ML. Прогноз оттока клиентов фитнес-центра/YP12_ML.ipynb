{
 "cells": [
  {
   "cell_type": "markdown",
   "metadata": {},
   "source": [
    "# Прогнозирование вероятности оттока клиентов фитнес-центра"
   ]
  },
  {
   "cell_type": "markdown",
   "metadata": {},
   "source": [
    "**Описание проекта**   \n",
    "В данном проекте использовано машинное обучение.   \n",
    "Фитнес-центром была предоставлена база данных, на основе которой нами спрогнозирована вероятность оттока (на уровне следующего месяца) для каждого клиента;   \n",
    "сформированы типичные портреты пользователей: выделены наиболее яркие группы, охарактеризованы их основные свойства;   проанализированы основные признаки, наиболее сильно влияющие на отток.  \n",
    "\n",
    "**Задача** — Провести анализ и подготовить план действий по удержанию клиентов"
   ]
  },
  {
   "cell_type": "markdown",
   "metadata": {},
   "source": [
    "**План работ:**\n",
    "\n",
    "[1. Загрузка данных](#blok_1)  \n",
    "[1.1. Откроем файл с данными и изучим общую информацию](#blok_11)  \n",
    "[1.2. Описание данных](#blok_12)  \n",
    "\n",
    "[2. Исследовательский анализ данных (EDA)](#blok_2)  \n",
    "[2.1. Изучение признаков, средних значений и стандартных отклонений](#blok_21)  \n",
    "[2.2. Средние значения признаков в двух группах ](#blok_22)  \n",
    "[2.3. Столбчатые гистограммы и распределения признаков](#blok_23)  \n",
    "[2.4. Матрица корреляций](#blok_24)  \n",
    "[2.5. Выводы](#blok_25)  \n",
    "\n",
    "[3. Модель прогнозирования оттока клиентов ](#blok_3)  \n",
    "[3.1. Разбиение данных на обучающую и валидационную выборки](#blok_31)  \n",
    "[3.2. Обучение моделей \"Логистическая регрессия\" и \"Случайный лес\"](#blok_32)  \n",
    "[3.3. Оценка метрик и сравнение моделей](#blok_33)  \n",
    "\n",
    "[4. Кластеризация клиентов](#blok_4)  \n",
    "[4.1. Стандартизация данных](#blok_41)  \n",
    "[4.2. Матрица расстояний и дендрограмма](#blok_42)  \n",
    "[4.3. Кластеризации по алгоритму K-Means и прогнозирование кластеров клиентов](#blok_43)  \n",
    "[4.4. Средние значения признаков для кластеров](#blok_44)  \n",
    "[4.5. Распределения признаков для кластеров](#blok_45) \n",
    "[4.6. Доли оттока в кластерах](#blok_46) \n",
    "[4.7. Выводы](#blok_47) \n",
    "\n",
    "[5. Выводы](#blok_5)  \n",
    "[5.1. Общие выводы](#blok_51)  \n",
    "[5.2. Рекомендации](#blok_52)"
   ]
  },
  {
   "cell_type": "markdown",
   "metadata": {},
   "source": [
    "## Загрузка данных  <a id='blok_1'></a>"
   ]
  },
  {
   "cell_type": "markdown",
   "metadata": {},
   "source": [
    "### Откроем файл с данными и изучим общую информацию <a id='blok_11'></a>"
   ]
  },
  {
   "cell_type": "code",
   "execution_count": 1,
   "metadata": {},
   "outputs": [],
   "source": [
    "#Импорт библиотек\n",
    "import pandas as pd\n",
    "import matplotlib.pyplot as plt\n",
    "import seaborn as sns\n",
    "import numpy as np\n",
    "\n",
    "from sklearn.linear_model import LogisticRegression\n",
    "from sklearn.model_selection import train_test_split\n",
    "from sklearn.preprocessing import StandardScaler\n",
    "from sklearn.ensemble import RandomForestClassifier\n",
    "from sklearn.metrics import accuracy_score, precision_score, recall_score, f1_score, roc_auc_score\n",
    "\n",
    "from scipy.cluster.hierarchy import dendrogram, linkage\n",
    "from sklearn.cluster import KMeans\n",
    "\n"
   ]
  },
  {
   "cell_type": "code",
   "execution_count": 2,
   "metadata": {},
   "outputs": [],
   "source": [
    "#Сформируем датасет\n",
    "df = pd.read_csv('/datasets/gym_churn.csv')"
   ]
  },
  {
   "cell_type": "code",
   "execution_count": 3,
   "metadata": {},
   "outputs": [],
   "source": [
    "#Чтобы часть столбцов в дальнейшем не скрывалась, настроим принудительное отображение\n",
    "pd.set_option('display.max_columns', None)\n",
    "#Установим ширину ячеек\n",
    "pd.set_option(\"max_colwidth\", 999)"
   ]
  },
  {
   "cell_type": "code",
   "execution_count": 4,
   "metadata": {},
   "outputs": [
    {
     "data": {
      "text/html": [
       "<div>\n",
       "<style scoped>\n",
       "    .dataframe tbody tr th:only-of-type {\n",
       "        vertical-align: middle;\n",
       "    }\n",
       "\n",
       "    .dataframe tbody tr th {\n",
       "        vertical-align: top;\n",
       "    }\n",
       "\n",
       "    .dataframe thead th {\n",
       "        text-align: right;\n",
       "    }\n",
       "</style>\n",
       "<table border=\"1\" class=\"dataframe\">\n",
       "  <thead>\n",
       "    <tr style=\"text-align: right;\">\n",
       "      <th></th>\n",
       "      <th>gender</th>\n",
       "      <th>Near_Location</th>\n",
       "      <th>Partner</th>\n",
       "      <th>Promo_friends</th>\n",
       "      <th>Phone</th>\n",
       "      <th>Contract_period</th>\n",
       "      <th>Group_visits</th>\n",
       "      <th>Age</th>\n",
       "      <th>Avg_additional_charges_total</th>\n",
       "      <th>Month_to_end_contract</th>\n",
       "      <th>Lifetime</th>\n",
       "      <th>Avg_class_frequency_total</th>\n",
       "      <th>Avg_class_frequency_current_month</th>\n",
       "      <th>Churn</th>\n",
       "    </tr>\n",
       "  </thead>\n",
       "  <tbody>\n",
       "    <tr>\n",
       "      <th>0</th>\n",
       "      <td>1</td>\n",
       "      <td>1</td>\n",
       "      <td>1</td>\n",
       "      <td>1</td>\n",
       "      <td>0</td>\n",
       "      <td>6</td>\n",
       "      <td>1</td>\n",
       "      <td>29</td>\n",
       "      <td>14.227470</td>\n",
       "      <td>5.0</td>\n",
       "      <td>3</td>\n",
       "      <td>0.020398</td>\n",
       "      <td>0.000000</td>\n",
       "      <td>0</td>\n",
       "    </tr>\n",
       "    <tr>\n",
       "      <th>1</th>\n",
       "      <td>0</td>\n",
       "      <td>1</td>\n",
       "      <td>0</td>\n",
       "      <td>0</td>\n",
       "      <td>1</td>\n",
       "      <td>12</td>\n",
       "      <td>1</td>\n",
       "      <td>31</td>\n",
       "      <td>113.202938</td>\n",
       "      <td>12.0</td>\n",
       "      <td>7</td>\n",
       "      <td>1.922936</td>\n",
       "      <td>1.910244</td>\n",
       "      <td>0</td>\n",
       "    </tr>\n",
       "    <tr>\n",
       "      <th>2</th>\n",
       "      <td>0</td>\n",
       "      <td>1</td>\n",
       "      <td>1</td>\n",
       "      <td>0</td>\n",
       "      <td>1</td>\n",
       "      <td>1</td>\n",
       "      <td>0</td>\n",
       "      <td>28</td>\n",
       "      <td>129.448479</td>\n",
       "      <td>1.0</td>\n",
       "      <td>2</td>\n",
       "      <td>1.859098</td>\n",
       "      <td>1.736502</td>\n",
       "      <td>0</td>\n",
       "    </tr>\n",
       "    <tr>\n",
       "      <th>3</th>\n",
       "      <td>0</td>\n",
       "      <td>1</td>\n",
       "      <td>1</td>\n",
       "      <td>1</td>\n",
       "      <td>1</td>\n",
       "      <td>12</td>\n",
       "      <td>1</td>\n",
       "      <td>33</td>\n",
       "      <td>62.669863</td>\n",
       "      <td>12.0</td>\n",
       "      <td>2</td>\n",
       "      <td>3.205633</td>\n",
       "      <td>3.357215</td>\n",
       "      <td>0</td>\n",
       "    </tr>\n",
       "    <tr>\n",
       "      <th>4</th>\n",
       "      <td>1</td>\n",
       "      <td>1</td>\n",
       "      <td>1</td>\n",
       "      <td>1</td>\n",
       "      <td>1</td>\n",
       "      <td>1</td>\n",
       "      <td>0</td>\n",
       "      <td>26</td>\n",
       "      <td>198.362265</td>\n",
       "      <td>1.0</td>\n",
       "      <td>3</td>\n",
       "      <td>1.113884</td>\n",
       "      <td>1.120078</td>\n",
       "      <td>0</td>\n",
       "    </tr>\n",
       "  </tbody>\n",
       "</table>\n",
       "</div>"
      ],
      "text/plain": [
       "   gender  Near_Location  Partner  Promo_friends  Phone  Contract_period  \\\n",
       "0       1              1        1              1      0                6   \n",
       "1       0              1        0              0      1               12   \n",
       "2       0              1        1              0      1                1   \n",
       "3       0              1        1              1      1               12   \n",
       "4       1              1        1              1      1                1   \n",
       "\n",
       "   Group_visits  Age  Avg_additional_charges_total  Month_to_end_contract  \\\n",
       "0             1   29                     14.227470                    5.0   \n",
       "1             1   31                    113.202938                   12.0   \n",
       "2             0   28                    129.448479                    1.0   \n",
       "3             1   33                     62.669863                   12.0   \n",
       "4             0   26                    198.362265                    1.0   \n",
       "\n",
       "   Lifetime  Avg_class_frequency_total  Avg_class_frequency_current_month  \\\n",
       "0         3                   0.020398                           0.000000   \n",
       "1         7                   1.922936                           1.910244   \n",
       "2         2                   1.859098                           1.736502   \n",
       "3         2                   3.205633                           3.357215   \n",
       "4         3                   1.113884                           1.120078   \n",
       "\n",
       "   Churn  \n",
       "0      0  \n",
       "1      0  \n",
       "2      0  \n",
       "3      0  \n",
       "4      0  "
      ]
     },
     "execution_count": 4,
     "metadata": {},
     "output_type": "execute_result"
    }
   ],
   "source": [
    "df.head()"
   ]
  },
  {
   "cell_type": "markdown",
   "metadata": {},
   "source": [
    "### Описание данных <a id='blok_12'></a>"
   ]
  },
  {
   "cell_type": "markdown",
   "metadata": {},
   "source": [
    "Фитнес-клуб предоставил сведения в csv-файлах.  \n",
    "Заказчик подготовил данные, которые содержат данные на месяц до оттока и факт оттока на определённый месяц.  \n",
    "Набор данных включает следующие поля:"
   ]
  },
  {
   "cell_type": "markdown",
   "metadata": {},
   "source": [
    "**Данные клиента за предыдущий до проверки факта оттока месяц:**  \n",
    "- 'gender' — пол;\n",
    "- 'Near_Location' — проживание или работа в районе, где находится фитнес-центр;\n",
    "- 'Partner' — сотрудник компании-партнёра клуба (сотрудничество с компаниями, чьи сотрудники могут получать скидки на абонемент, в таком случае фитнес-центр хранит информацию о работодателе клиента);\n",
    "- Promo_friends — факт первоначальной записи в рамках акции «приведи друга» (использовал промо-код от знакомого при оплате первого абонемента);\n",
    "- 'Phone' — наличие контактного телефона;\n",
    "- 'Age' — возраст;\n",
    "- 'Lifetime' — время с момента первого обращения в фитнес-центр (в месяцах)."
   ]
  },
  {
   "cell_type": "markdown",
   "metadata": {},
   "source": [
    "**Информация на основе журнала посещений, покупок и информация о текущем статусе абонемента клиента:**\n",
    "- 'Contract_period' — длительность текущего действующего абонемента (месяц, 6 месяцев, год);\n",
    "- 'Month_to_end_contract' — срок до окончания текущего действующего абонемента (в месяцах);\n",
    "- 'Group_visits' — факт посещения групповых занятий;\n",
    "- 'Avg_class_frequency_total' — средняя частота посещений в неделю за все время с начала действия абонемента;\n",
    "- 'Avg_class_frequency_current_month' — средняя частота посещений в неделю за предыдущий месяц;\n",
    "- 'Avg_additional_charges_total' — суммарная выручка от других услуг фитнес-центра: кафе, спорттовары, косметический и массажный салон.\n",
    "- 'Churn' — факт оттока в текущем месяце."
   ]
  },
  {
   "cell_type": "markdown",
   "metadata": {},
   "source": [
    "## Исследовательский анализ данных (EDA) <a id='blok_2'></a>"
   ]
  },
  {
   "cell_type": "markdown",
   "metadata": {},
   "source": [
    "### Изучение признаков, средних значений и стандартных отклонений <a id='blok_21'></a>"
   ]
  },
  {
   "cell_type": "markdown",
   "metadata": {},
   "source": [
    "Посмотрим на датасет: есть ли в нем отсутствующие признаки, изучим средние значения и стандартные отклонения "
   ]
  },
  {
   "cell_type": "code",
   "execution_count": 5,
   "metadata": {
    "scrolled": false
   },
   "outputs": [
    {
     "name": "stdout",
     "output_type": "stream",
     "text": [
      "<class 'pandas.core.frame.DataFrame'>\n",
      "RangeIndex: 4000 entries, 0 to 3999\n",
      "Data columns (total 14 columns):\n",
      " #   Column                             Non-Null Count  Dtype  \n",
      "---  ------                             --------------  -----  \n",
      " 0   gender                             4000 non-null   int64  \n",
      " 1   Near_Location                      4000 non-null   int64  \n",
      " 2   Partner                            4000 non-null   int64  \n",
      " 3   Promo_friends                      4000 non-null   int64  \n",
      " 4   Phone                              4000 non-null   int64  \n",
      " 5   Contract_period                    4000 non-null   int64  \n",
      " 6   Group_visits                       4000 non-null   int64  \n",
      " 7   Age                                4000 non-null   int64  \n",
      " 8   Avg_additional_charges_total       4000 non-null   float64\n",
      " 9   Month_to_end_contract              4000 non-null   float64\n",
      " 10  Lifetime                           4000 non-null   int64  \n",
      " 11  Avg_class_frequency_total          4000 non-null   float64\n",
      " 12  Avg_class_frequency_current_month  4000 non-null   float64\n",
      " 13  Churn                              4000 non-null   int64  \n",
      "dtypes: float64(4), int64(10)\n",
      "memory usage: 437.6 KB\n"
     ]
    }
   ],
   "source": [
    "#Посмотрим общую информацию\n",
    "df.info()"
   ]
  },
  {
   "cell_type": "markdown",
   "metadata": {},
   "source": [
    "Отсутствующих признаков нет"
   ]
  },
  {
   "cell_type": "code",
   "execution_count": 6,
   "metadata": {
    "scrolled": true
   },
   "outputs": [
    {
     "data": {
      "text/plain": [
       "Index(['gender', 'near_location', 'partner', 'promo_friends', 'phone',\n",
       "       'contract_period', 'group_visits', 'age',\n",
       "       'avg_additional_charges_total', 'month_to_end_contract', 'lifetime',\n",
       "       'avg_class_frequency_total', 'avg_class_frequency_current_month',\n",
       "       'churn'],\n",
       "      dtype='object')"
      ]
     },
     "execution_count": 6,
     "metadata": {},
     "output_type": "execute_result"
    }
   ],
   "source": [
    "#Изменим регистр названия столбцов\n",
    "df.columns = df.columns.str.lower()\n",
    "df.columns"
   ]
  },
  {
   "cell_type": "code",
   "execution_count": 7,
   "metadata": {},
   "outputs": [
    {
     "name": "stdout",
     "output_type": "stream",
     "text": [
      "Обнаружено дубликатов: 0\n"
     ]
    }
   ],
   "source": [
    "#Проверим наличие дубликатов \n",
    "print('Обнаружено дубликатов:', df.duplicated().sum())"
   ]
  },
  {
   "cell_type": "code",
   "execution_count": 8,
   "metadata": {
    "scrolled": true
   },
   "outputs": [
    {
     "data": {
      "text/html": [
       "<div>\n",
       "<style scoped>\n",
       "    .dataframe tbody tr th:only-of-type {\n",
       "        vertical-align: middle;\n",
       "    }\n",
       "\n",
       "    .dataframe tbody tr th {\n",
       "        vertical-align: top;\n",
       "    }\n",
       "\n",
       "    .dataframe thead th {\n",
       "        text-align: right;\n",
       "    }\n",
       "</style>\n",
       "<table border=\"1\" class=\"dataframe\">\n",
       "  <thead>\n",
       "    <tr style=\"text-align: right;\">\n",
       "      <th></th>\n",
       "      <th>gender</th>\n",
       "      <th>near_location</th>\n",
       "      <th>partner</th>\n",
       "      <th>promo_friends</th>\n",
       "      <th>phone</th>\n",
       "      <th>contract_period</th>\n",
       "      <th>group_visits</th>\n",
       "      <th>age</th>\n",
       "      <th>avg_additional_charges_total</th>\n",
       "      <th>month_to_end_contract</th>\n",
       "      <th>lifetime</th>\n",
       "      <th>avg_class_frequency_total</th>\n",
       "      <th>avg_class_frequency_current_month</th>\n",
       "      <th>churn</th>\n",
       "    </tr>\n",
       "  </thead>\n",
       "  <tbody>\n",
       "    <tr>\n",
       "      <th>count</th>\n",
       "      <td>4000.000000</td>\n",
       "      <td>4000.000000</td>\n",
       "      <td>4000.000000</td>\n",
       "      <td>4000.000000</td>\n",
       "      <td>4000.000000</td>\n",
       "      <td>4000.000000</td>\n",
       "      <td>4000.000000</td>\n",
       "      <td>4000.000000</td>\n",
       "      <td>4000.000000</td>\n",
       "      <td>4000.000000</td>\n",
       "      <td>4000.000000</td>\n",
       "      <td>4000.000000</td>\n",
       "      <td>4000.000000</td>\n",
       "      <td>4000.000000</td>\n",
       "    </tr>\n",
       "    <tr>\n",
       "      <th>mean</th>\n",
       "      <td>0.510250</td>\n",
       "      <td>0.845250</td>\n",
       "      <td>0.486750</td>\n",
       "      <td>0.308500</td>\n",
       "      <td>0.903500</td>\n",
       "      <td>4.681250</td>\n",
       "      <td>0.412250</td>\n",
       "      <td>29.184250</td>\n",
       "      <td>146.943728</td>\n",
       "      <td>4.322750</td>\n",
       "      <td>3.724750</td>\n",
       "      <td>1.879020</td>\n",
       "      <td>1.767052</td>\n",
       "      <td>0.265250</td>\n",
       "    </tr>\n",
       "    <tr>\n",
       "      <th>std</th>\n",
       "      <td>0.499957</td>\n",
       "      <td>0.361711</td>\n",
       "      <td>0.499887</td>\n",
       "      <td>0.461932</td>\n",
       "      <td>0.295313</td>\n",
       "      <td>4.549706</td>\n",
       "      <td>0.492301</td>\n",
       "      <td>3.258367</td>\n",
       "      <td>96.355602</td>\n",
       "      <td>4.191297</td>\n",
       "      <td>3.749267</td>\n",
       "      <td>0.972245</td>\n",
       "      <td>1.052906</td>\n",
       "      <td>0.441521</td>\n",
       "    </tr>\n",
       "    <tr>\n",
       "      <th>min</th>\n",
       "      <td>0.000000</td>\n",
       "      <td>0.000000</td>\n",
       "      <td>0.000000</td>\n",
       "      <td>0.000000</td>\n",
       "      <td>0.000000</td>\n",
       "      <td>1.000000</td>\n",
       "      <td>0.000000</td>\n",
       "      <td>18.000000</td>\n",
       "      <td>0.148205</td>\n",
       "      <td>1.000000</td>\n",
       "      <td>0.000000</td>\n",
       "      <td>0.000000</td>\n",
       "      <td>0.000000</td>\n",
       "      <td>0.000000</td>\n",
       "    </tr>\n",
       "    <tr>\n",
       "      <th>25%</th>\n",
       "      <td>0.000000</td>\n",
       "      <td>1.000000</td>\n",
       "      <td>0.000000</td>\n",
       "      <td>0.000000</td>\n",
       "      <td>1.000000</td>\n",
       "      <td>1.000000</td>\n",
       "      <td>0.000000</td>\n",
       "      <td>27.000000</td>\n",
       "      <td>68.868830</td>\n",
       "      <td>1.000000</td>\n",
       "      <td>1.000000</td>\n",
       "      <td>1.180875</td>\n",
       "      <td>0.963003</td>\n",
       "      <td>0.000000</td>\n",
       "    </tr>\n",
       "    <tr>\n",
       "      <th>50%</th>\n",
       "      <td>1.000000</td>\n",
       "      <td>1.000000</td>\n",
       "      <td>0.000000</td>\n",
       "      <td>0.000000</td>\n",
       "      <td>1.000000</td>\n",
       "      <td>1.000000</td>\n",
       "      <td>0.000000</td>\n",
       "      <td>29.000000</td>\n",
       "      <td>136.220159</td>\n",
       "      <td>1.000000</td>\n",
       "      <td>3.000000</td>\n",
       "      <td>1.832768</td>\n",
       "      <td>1.719574</td>\n",
       "      <td>0.000000</td>\n",
       "    </tr>\n",
       "    <tr>\n",
       "      <th>75%</th>\n",
       "      <td>1.000000</td>\n",
       "      <td>1.000000</td>\n",
       "      <td>1.000000</td>\n",
       "      <td>1.000000</td>\n",
       "      <td>1.000000</td>\n",
       "      <td>6.000000</td>\n",
       "      <td>1.000000</td>\n",
       "      <td>31.000000</td>\n",
       "      <td>210.949625</td>\n",
       "      <td>6.000000</td>\n",
       "      <td>5.000000</td>\n",
       "      <td>2.536078</td>\n",
       "      <td>2.510336</td>\n",
       "      <td>1.000000</td>\n",
       "    </tr>\n",
       "    <tr>\n",
       "      <th>max</th>\n",
       "      <td>1.000000</td>\n",
       "      <td>1.000000</td>\n",
       "      <td>1.000000</td>\n",
       "      <td>1.000000</td>\n",
       "      <td>1.000000</td>\n",
       "      <td>12.000000</td>\n",
       "      <td>1.000000</td>\n",
       "      <td>41.000000</td>\n",
       "      <td>552.590740</td>\n",
       "      <td>12.000000</td>\n",
       "      <td>31.000000</td>\n",
       "      <td>6.023668</td>\n",
       "      <td>6.146783</td>\n",
       "      <td>1.000000</td>\n",
       "    </tr>\n",
       "  </tbody>\n",
       "</table>\n",
       "</div>"
      ],
      "text/plain": [
       "            gender  near_location      partner  promo_friends        phone  \\\n",
       "count  4000.000000    4000.000000  4000.000000    4000.000000  4000.000000   \n",
       "mean      0.510250       0.845250     0.486750       0.308500     0.903500   \n",
       "std       0.499957       0.361711     0.499887       0.461932     0.295313   \n",
       "min       0.000000       0.000000     0.000000       0.000000     0.000000   \n",
       "25%       0.000000       1.000000     0.000000       0.000000     1.000000   \n",
       "50%       1.000000       1.000000     0.000000       0.000000     1.000000   \n",
       "75%       1.000000       1.000000     1.000000       1.000000     1.000000   \n",
       "max       1.000000       1.000000     1.000000       1.000000     1.000000   \n",
       "\n",
       "       contract_period  group_visits          age  \\\n",
       "count      4000.000000   4000.000000  4000.000000   \n",
       "mean          4.681250      0.412250    29.184250   \n",
       "std           4.549706      0.492301     3.258367   \n",
       "min           1.000000      0.000000    18.000000   \n",
       "25%           1.000000      0.000000    27.000000   \n",
       "50%           1.000000      0.000000    29.000000   \n",
       "75%           6.000000      1.000000    31.000000   \n",
       "max          12.000000      1.000000    41.000000   \n",
       "\n",
       "       avg_additional_charges_total  month_to_end_contract     lifetime  \\\n",
       "count                   4000.000000            4000.000000  4000.000000   \n",
       "mean                     146.943728               4.322750     3.724750   \n",
       "std                       96.355602               4.191297     3.749267   \n",
       "min                        0.148205               1.000000     0.000000   \n",
       "25%                       68.868830               1.000000     1.000000   \n",
       "50%                      136.220159               1.000000     3.000000   \n",
       "75%                      210.949625               6.000000     5.000000   \n",
       "max                      552.590740              12.000000    31.000000   \n",
       "\n",
       "       avg_class_frequency_total  avg_class_frequency_current_month  \\\n",
       "count                4000.000000                        4000.000000   \n",
       "mean                    1.879020                           1.767052   \n",
       "std                     0.972245                           1.052906   \n",
       "min                     0.000000                           0.000000   \n",
       "25%                     1.180875                           0.963003   \n",
       "50%                     1.832768                           1.719574   \n",
       "75%                     2.536078                           2.510336   \n",
       "max                     6.023668                           6.146783   \n",
       "\n",
       "             churn  \n",
       "count  4000.000000  \n",
       "mean      0.265250  \n",
       "std       0.441521  \n",
       "min       0.000000  \n",
       "25%       0.000000  \n",
       "50%       0.000000  \n",
       "75%       1.000000  \n",
       "max       1.000000  "
      ]
     },
     "execution_count": 8,
     "metadata": {},
     "output_type": "execute_result"
    }
   ],
   "source": [
    "df.describe()"
   ]
  },
  {
   "cell_type": "markdown",
   "metadata": {},
   "source": [
    "В целом, данные равномерные, стандартные отклонения не велики. Возможно будут выбросы в 'Avg_additional_charges_total' — суммарная выручка от других услуг фитнес-центра. Интересные данные в Лафтайм: при средних 4мес, есть и те, кто занимается 2.5 года. При этом средняя частота посещений выше у тех, кто дольше является клиентом.  \n",
    "Посмотрим данные детальнее."
   ]
  },
  {
   "cell_type": "markdown",
   "metadata": {},
   "source": [
    "### Средние значения признаков в двух группах  <a id='blok_22'></a>"
   ]
  },
  {
   "cell_type": "markdown",
   "metadata": {},
   "source": [
    "Посмотрим на средние значения признаков в двух группах — тех, кто ушел в отток и тех, кто остался."
   ]
  },
  {
   "cell_type": "code",
   "execution_count": 9,
   "metadata": {},
   "outputs": [
    {
     "data": {
      "text/html": [
       "<style  type=\"text/css\" >\n",
       "</style><table id=\"T_034b6_\" ><thead>    <tr>        <th class=\"index_name level0\" >churn</th>        <th class=\"col_heading level0 col0\" >0</th>        <th class=\"col_heading level0 col1\" >1</th>    </tr></thead><tbody>\n",
       "                <tr>\n",
       "                        <th id=\"T_034b6_level0_row0\" class=\"row_heading level0 row0\" >gender</th>\n",
       "                        <td id=\"T_034b6_row0_col0\" class=\"data row0 col0\" >0.510037</td>\n",
       "                        <td id=\"T_034b6_row0_col1\" class=\"data row0 col1\" >0.510839</td>\n",
       "            </tr>\n",
       "            <tr>\n",
       "                        <th id=\"T_034b6_level0_row1\" class=\"row_heading level0 row1\" >near_location</th>\n",
       "                        <td id=\"T_034b6_row1_col0\" class=\"data row1 col0\" >0.873086</td>\n",
       "                        <td id=\"T_034b6_row1_col1\" class=\"data row1 col1\" >0.768143</td>\n",
       "            </tr>\n",
       "            <tr>\n",
       "                        <th id=\"T_034b6_level0_row2\" class=\"row_heading level0 row2\" >partner</th>\n",
       "                        <td id=\"T_034b6_row2_col0\" class=\"data row2 col0\" >0.534195</td>\n",
       "                        <td id=\"T_034b6_row2_col1\" class=\"data row2 col1\" >0.355325</td>\n",
       "            </tr>\n",
       "            <tr>\n",
       "                        <th id=\"T_034b6_level0_row3\" class=\"row_heading level0 row3\" >promo_friends</th>\n",
       "                        <td id=\"T_034b6_row3_col0\" class=\"data row3 col0\" >0.353522</td>\n",
       "                        <td id=\"T_034b6_row3_col1\" class=\"data row3 col1\" >0.183789</td>\n",
       "            </tr>\n",
       "            <tr>\n",
       "                        <th id=\"T_034b6_level0_row4\" class=\"row_heading level0 row4\" >phone</th>\n",
       "                        <td id=\"T_034b6_row4_col0\" class=\"data row4 col0\" >0.903709</td>\n",
       "                        <td id=\"T_034b6_row4_col1\" class=\"data row4 col1\" >0.902922</td>\n",
       "            </tr>\n",
       "            <tr>\n",
       "                        <th id=\"T_034b6_level0_row5\" class=\"row_heading level0 row5\" >contract_period</th>\n",
       "                        <td id=\"T_034b6_row5_col0\" class=\"data row5 col0\" >5.747193</td>\n",
       "                        <td id=\"T_034b6_row5_col1\" class=\"data row5 col1\" >1.728558</td>\n",
       "            </tr>\n",
       "            <tr>\n",
       "                        <th id=\"T_034b6_level0_row6\" class=\"row_heading level0 row6\" >group_visits</th>\n",
       "                        <td id=\"T_034b6_row6_col0\" class=\"data row6 col0\" >0.464103</td>\n",
       "                        <td id=\"T_034b6_row6_col1\" class=\"data row6 col1\" >0.268615</td>\n",
       "            </tr>\n",
       "            <tr>\n",
       "                        <th id=\"T_034b6_level0_row7\" class=\"row_heading level0 row7\" >age</th>\n",
       "                        <td id=\"T_034b6_row7_col0\" class=\"data row7 col0\" >29.976523</td>\n",
       "                        <td id=\"T_034b6_row7_col1\" class=\"data row7 col1\" >26.989632</td>\n",
       "            </tr>\n",
       "            <tr>\n",
       "                        <th id=\"T_034b6_level0_row8\" class=\"row_heading level0 row8\" >avg_additional_charges_total</th>\n",
       "                        <td id=\"T_034b6_row8_col0\" class=\"data row8 col0\" >158.445715</td>\n",
       "                        <td id=\"T_034b6_row8_col1\" class=\"data row8 col1\" >115.082899</td>\n",
       "            </tr>\n",
       "            <tr>\n",
       "                        <th id=\"T_034b6_level0_row9\" class=\"row_heading level0 row9\" >month_to_end_contract</th>\n",
       "                        <td id=\"T_034b6_row9_col0\" class=\"data row9 col0\" >5.283089</td>\n",
       "                        <td id=\"T_034b6_row9_col1\" class=\"data row9 col1\" >1.662582</td>\n",
       "            </tr>\n",
       "            <tr>\n",
       "                        <th id=\"T_034b6_level0_row10\" class=\"row_heading level0 row10\" >lifetime</th>\n",
       "                        <td id=\"T_034b6_row10_col0\" class=\"data row10 col0\" >4.711807</td>\n",
       "                        <td id=\"T_034b6_row10_col1\" class=\"data row10 col1\" >0.990575</td>\n",
       "            </tr>\n",
       "            <tr>\n",
       "                        <th id=\"T_034b6_level0_row11\" class=\"row_heading level0 row11\" >avg_class_frequency_total</th>\n",
       "                        <td id=\"T_034b6_row11_col0\" class=\"data row11 col0\" >2.024876</td>\n",
       "                        <td id=\"T_034b6_row11_col1\" class=\"data row11 col1\" >1.474995</td>\n",
       "            </tr>\n",
       "            <tr>\n",
       "                        <th id=\"T_034b6_level0_row12\" class=\"row_heading level0 row12\" >avg_class_frequency_current_month</th>\n",
       "                        <td id=\"T_034b6_row12_col0\" class=\"data row12 col0\" >2.027882</td>\n",
       "                        <td id=\"T_034b6_row12_col1\" class=\"data row12 col1\" >1.044546</td>\n",
       "            </tr>\n",
       "    </tbody></table>"
      ],
      "text/plain": [
       "<pandas.io.formats.style.Styler at 0x7f2b84aabf70>"
      ]
     },
     "execution_count": 9,
     "metadata": {},
     "output_type": "execute_result"
    }
   ],
   "source": [
    "#Сгруппируем по 'факт оттока в текущем месяце'\n",
    "df.groupby('churn').mean().T.style"
   ]
  },
  {
   "cell_type": "markdown",
   "metadata": {},
   "source": [
    "В полях \"gender\", \"near_location\", \"partner\" и др у нас бинарные значения признаков (0 - 1).  \n",
    "Это значит, что чем ближе среднее значение к единице, тем больше количество клиентов с этим признаком (то есть он равен 1) и наоборот."
   ]
  },
  {
   "cell_type": "markdown",
   "metadata": {},
   "source": [
    "Так мы видим, что пол никак не влияет на уход клиента, а те, кому абонемент достался по партнерской программе более склонны к уходу.  \n",
    "Большая часть клиентов (в обеих группах) живет/работает поблизости от фитнеса.  \n",
    "К удивлению есть клиенты, телефоны которых неизвестны.  \n",
    "У текущих клиентов абонементы с большей длительностью, а у бывших клиентов превалируют абонементы на 1 месяц.  \n",
    "Текущие клиенты чаще посещают фитнес, больше ходят на групповые тренировки и приносят больше денег на сопутствующие услуги.\n"
   ]
  },
  {
   "cell_type": "markdown",
   "metadata": {},
   "source": [
    "### Столбчатые гистограммы и распределения признаков <a id='blok_23'></a>"
   ]
  },
  {
   "cell_type": "markdown",
   "metadata": {},
   "source": [
    "Построим столбчатые гистограммы и распределения признаков для тех, кто ушёл (отток) и тех, кто остался (не попали в отток)"
   ]
  },
  {
   "cell_type": "code",
   "execution_count": 10,
   "metadata": {},
   "outputs": [
    {
     "data": {
      "image/png": "[encoded data removed]",
      "text/plain": [
       "<Figure size 864x504 with 1 Axes>"
      ]
     },
     "metadata": {
      "needs_background": "light"
     },
     "output_type": "display_data"
    },
    {
     "data": {
      "image/png": "[encoded data removed]",
      "text/plain": [
       "<Figure size 864x504 with 1 Axes>"
      ]
     },
     "metadata": {
      "needs_background": "light"
     },
     "output_type": "display_data"
    },
    {
     "data": {
      "image/png": "[encoded data removed]",
      "text/plain": [
       "<Figure size 864x504 with 1 Axes>"
      ]
     },
     "metadata": {
      "needs_background": "light"
     },
     "output_type": "display_data"
    },
    {
     "data": {
      "image/png": "[encoded data removed]",
      "text/plain": [
       "<Figure size 864x504 with 1 Axes>"
      ]
     },
     "metadata": {
      "needs_background": "light"
     },
     "output_type": "display_data"
    },
    {
     "data": {
      "image/png": "[encoded data removed]",
      "text/plain": [
       "<Figure size 864x504 with 1 Axes>"
      ]
     },
     "metadata": {
      "needs_background": "light"
     },
     "output_type": "display_data"
    },
    {
     "data": {
      "image/png": "[encoded data removed]",
      "text/plain": [
       "<Figure size 864x504 with 1 Axes>"
      ]
     },
     "metadata": {
      "needs_background": "light"
     },
     "output_type": "display_data"
    },
    {
     "data": {
      "image/png": "[encoded data removed]",
      "text/plain": [
       "<Figure size 864x504 with 1 Axes>"
      ]
     },
     "metadata": {
      "needs_background": "light"
     },
     "output_type": "display_data"
    }
   ],
   "source": [
    "churn_clients = df[df['churn']==1] #Ушедшие клиенты\n",
    "stayed_clients = df[df['churn']==0] #Оставшиеся клиенты\n",
    "\n",
    "histplot_columns = ['avg_additional_charges_total', \n",
    "                    'avg_class_frequency_total', \n",
    "                    'avg_class_frequency_current_month', \n",
    "                    'lifetime', 'age', \n",
    "                    'contract_period', \n",
    "                    'month_to_end_contract']\n",
    "\n",
    "for col in histplot_columns: \n",
    "  fig, ax = plt.subplots(figsize=(12, 7)) \n",
    "  plt.title('Распределение признака '+ col)\n",
    "  sns.histplot(churn_clients[col], color=\"r\", kde=True)\n",
    "  sns.histplot(stayed_clients[col], kde=True)\n",
    "  plt.legend(['Ушедшие', 'Оставшиеся'])\n",
    "  plt.grid()\n",
    "  plt.show()"
   ]
  },
  {
   "cell_type": "code",
   "execution_count": 11,
   "metadata": {},
   "outputs": [
    {
     "data": {
      "image/png": "[encoded data removed]",
      "text/plain": [
       "<Figure size 432x288 with 1 Axes>"
      ]
     },
     "metadata": {
      "needs_background": "light"
     },
     "output_type": "display_data"
    },
    {
     "data": {
      "image/png": "[encoded data removed]",
      "text/plain": [
       "<Figure size 432x288 with 1 Axes>"
      ]
     },
     "metadata": {
      "needs_background": "light"
     },
     "output_type": "display_data"
    },
    {
     "data": {
      "image/png": "[encoded data removed]",
      "text/plain": [
       "<Figure size 432x288 with 1 Axes>"
      ]
     },
     "metadata": {
      "needs_background": "light"
     },
     "output_type": "display_data"
    },
    {
     "data": {
      "image/png": "[encoded data removed]",
      "text/plain": [
       "<Figure size 432x288 with 1 Axes>"
      ]
     },
     "metadata": {
      "needs_background": "light"
     },
     "output_type": "display_data"
    },
    {
     "data": {
      "image/png": "[encoded data removed]",
      "text/plain": [
       "<Figure size 432x288 with 1 Axes>"
      ]
     },
     "metadata": {
      "needs_background": "light"
     },
     "output_type": "display_data"
    },
    {
     "data": {
      "image/png": "[encoded data removed]",
      "text/plain": [
       "<Figure size 432x288 with 1 Axes>"
      ]
     },
     "metadata": {
      "needs_background": "light"
     },
     "output_type": "display_data"
    }
   ],
   "source": [
    "for col in df.drop('churn', axis = 1).columns:\n",
    "  if col not in histplot_columns:\n",
    "    plt.title('Распределение признака '+ col)\n",
    "    plt.xlabel(col)\n",
    "    df.groupby('churn')[col].hist()\n",
    "    plt.legend(['Оставшиеся', 'Ушедшие'])\n",
    "    plt.show()"
   ]
  },
  {
   "cell_type": "markdown",
   "metadata": {},
   "source": [
    "По полу, близости к фитнес-центру, наличию контактного телефона обе группы имеют схожее равномерное распределение.\n",
    "\n",
    "Есть различия в распределении групп между теми, кто является сотрудником компании-партнёра клуба и не является. В группе лояльных клиентов число имеющих отношение к компании-партнёра сотрудников явно больше, чем среди тех, кто уходит в отток. Различия в распределении групп по посещению групповых занятий такие же, как и в распределениях по принадлежности к компании-партнёру.\n",
    "\n",
    "Среди тех, кто остался, по промо-акции \"Приведи друга\" клиентов немного больше, но распределения схожи.\n",
    "\n",
    "Распределение длительности действующего абонемента по оставшимся пользователям и ушедшим различается. Лояльных клиентов, приобретающих абонемент на 1 месяц больше всего, меньше их сроком на год, и наименьшее количество клиентов - на 6 месяцев. А для ушедших в отток 1 месяц - самый популярный, затем - 6 месяцев (с очень низким числом абонементов), и практически нет абонементов на 12 месяцев. Различия в распределении групп по сроку до окончания действующего абонемента такие же, как и в распределениях по длительности абонемента.\n",
    "\n",
    "По среднему возрасту обе группы имеют нормальное распределение, но датасет лояльных клиентов немного смещён вправо, а датасет ушедших клиентов - влево.\n",
    "\n",
    "Распределение средней выручки от других услуг фитнес-центра для обоих датасетов смещено влево с большим смещением для ушедших людей. То есть те, кто уходит, практически ничего не тратят на дополнительные услуги в фитнес-центре.\n",
    "\n",
    "Распределение времени с момента первого обращения для обоих групп похоже на распределение Пуассона. Но для ушедших в отток клиентов оно сильно смещено влево, практически не имея значения в более высоких значениях, а для лояльных клиентов принимает более высокие значения.\n",
    "\n",
    "Распределение для средней частоты посещений в неделю за время действия абонемента в обоих группах является нормальным. Для лояльной группы оно немного смещено влево, а для группы уходящих в отток имеется сильное смещение влево. Аналогичные различия между группами наблюдаются и для распределений средней частоты посещений в неделю за месяц."
   ]
  },
  {
   "cell_type": "markdown",
   "metadata": {},
   "source": [
    "### Матрица корреляций  <a id='blok_24'></a>"
   ]
  },
  {
   "cell_type": "code",
   "execution_count": 12,
   "metadata": {
    "scrolled": false
   },
   "outputs": [
    {
     "data": {
      "image/png": "[encoded data removed]",
      "text/plain": [
       "<Figure size 720x576 with 2 Axes>"
      ]
     },
     "metadata": {
      "needs_background": "light"
     },
     "output_type": "display_data"
    }
   ],
   "source": [
    "#Построим матрицу корреляций и отобразим её\n",
    "corr_matrix = df.corr()\n",
    "\n",
    "plt.figure(figsize=(10, 8))\n",
    "mask = np.triu(np.ones_like(corr_matrix))\n",
    "sns.heatmap(corr_matrix, mask=mask, annot = True, fmt = '0.2f', linewidths=.3, cmap=\"Blues\")\n",
    "plt.title('Матрица корреляций')\n",
    "plt.show()"
   ]
  },
  {
   "cell_type": "markdown",
   "metadata": {},
   "source": [
    "- На корреляции мы видим, что такие признаки как пол и контактный телефон не влияют на показатель оттока. Все остальные показатели имеют отрицательное влияние, причем либо слабое, либо чуть более выраженное, но максимум 0.44, что явно мало для выводов. Признаков, сильно связанных с оттоком предварительный анализ не показал.\n",
    "\n",
    "- Также отметим наличие сильной связи между показателями длительности абонемента и количеством месяцев до конца абонемента. Вероятно, в базе клиенты, которые отобраны в начале действия своего абонемента.   \n",
    "\n",
    "- Еще отметим сильную связь между средней частотой посещений в неделю с начала пользования услугами и за предыдущий месяц.Тут, вероятно, клиенты посещают фитнес-центр примерно одинаковое число раз в неделю вне зависимости от того, сколько они пользуются услугами центра. Для того, чтобы такие признаки не переобучали наши модел, удалим два мультиколлинеарных признака: month_to_end_contract и avg_class_frequency_total."
   ]
  },
  {
   "cell_type": "code",
   "execution_count": 13,
   "metadata": {},
   "outputs": [],
   "source": [
    "df = df.drop(['month_to_end_contract', 'avg_class_frequency_total'], axis=1)"
   ]
  },
  {
   "cell_type": "markdown",
   "metadata": {},
   "source": [
    "### Выводы <a id='blok_25'></a>"
   ]
  },
  {
   "cell_type": "markdown",
   "metadata": {},
   "source": [
    "Исследовательский анализ данных (EDA) позволил сделать следующие выводы:\n",
    "\n",
    "**Отток клиентов.** В выборке больше тех, кто продолжает пользоваться услугами.\n",
    "\n",
    "**Пол клиентов.** Видим равномерное распределение пола как по всей выборке, так в сегментах ушедших и оставшихся клиентов.\n",
    "\n",
    "**Близость к фитнес-центру.** В выборке больше тех, кто живёт или работает в районе фитнес-центра. Но сильной разницы между ушедшими и оставшимися по этому признаку нет.\n",
    "\n",
    "**Сотрудники компании-партнёра.** Среди лояльных клиентов чуть больше половины тех, кто связан с партнёрами. А среди ушедших клиентов больше не связанных с компанией-партнёром.\n",
    "\n",
    "**Промо-акция.** Акция \"Приведи доруга\" популярна. Среди лояльных количество пришедших с нее и без равно. Уходят активнне те, кто без промо-акции.\n",
    "\n",
    "**Контактный телефон.** Информация есть почти по всем клиентам. Данный показатель не влияет на отток.\n",
    "\n",
    "**Возраст.** Средний возраст равен 29 годам. В группе лояльных фитнес-центру людей средний возраст составляет около 30 лет, а среди уходящих - около 27 лет.\n",
    "\n",
    "**Время с первого обращения.** Среднее время с момента первого обращения 3 месяца. Среднее время с момента первого обращения для ушедших 1 месяц, а для тех, кто остался - около 5 месяцев. Привыкание важная вещь.\n",
    "\n",
    "**Длительность абонемента.** Абонементы бывают 1,6 и 12  месяцев. Средняя длительность абонемента получилась 4-5 месяцев, но для большинства срок действующего абонемента равен 1 месяцу. Длительность действующего абонемента по оставшимся пользователям в среднем около 5-6 месяцев, а по ушедшим - 1-2 месяца. Владельцы полугодовых и годовых абонементов менее склонны к уходу, люди ценят свои деньги.\n",
    "\n",
    "**Время до окончания абонемента.** В среднем это значение около 4 месяцев. При этом больше половины всей выборки - это люди, до конца абонементов которых остался 1 месяц. Различия в распределении групп (лояльных и нелояльных клиентов) по сроку до окончания действующего абонемента такие же, как и в распределениях по длительности абонемента. В среднем срок до окончания действующего абонемента у людей, ушедших в отток, около 1-2 месяцев, а у оставшихся клиентов - около 5 месяцев. \n",
    "\n",
    "**Групповые занятия.** Посетители групповых занятий менее склонны к уходу.\n",
    "\n",
    "**Частота посещений за весь срок.** В среднем посещают центр около 2 раз в неделю. Лояльные клиенты, в среднем, посещают центр скорее 3 раза в неделю, а ушедшие 1.\n",
    "\n",
    "**Частота посещений за месяц.** Распределения и средние значения схожи с показателями частоты посещений за весь срок абонемента.\n",
    "\n",
    "**Выручка от доп.услуг.** Выручка от дополнительных услуг фитнес-центра в среднем составляет около 147 ден.ед., медиана равна 136 ден.ед. Разброс данных очень большой. Лояльные клиенты склонны тратить больше. А те, кто уходит, стараются минимизировать затраты на дополнительные услуги.\n",
    "\n",
    "На корреляции мы видим, что такие признаки как пол и контактный телефон не влияют на показатель оттока. Все остальные показатели имеют отрицательное влияние, причем либо слабое, либо чуть более выраженное, но максимум 0.44, что явно мало для выводов. Признаков, сильно связанных с оттоком предварительный анализ не показал"
   ]
  },
  {
   "cell_type": "markdown",
   "metadata": {},
   "source": [
    "## Модель прогнозирования оттока клиентов <a id='blok_3'></a>"
   ]
  },
  {
   "cell_type": "markdown",
   "metadata": {},
   "source": [
    "Построим модель бинарной классификации клиентов, где целевой признак — факт оттока клиента в следующем месяце"
   ]
  },
  {
   "cell_type": "markdown",
   "metadata": {},
   "source": [
    "### Разбиение данных на обучающую и валидационную выборки  <a id='blok_31'></a>"
   ]
  },
  {
   "cell_type": "markdown",
   "metadata": {},
   "source": [
    "Разобьем данные на обучающую и валидационную выборку функцией train_test_split()"
   ]
  },
  {
   "cell_type": "code",
   "execution_count": 14,
   "metadata": {},
   "outputs": [],
   "source": [
    "#Разделим данные на признаки (матрица x) и целевую переменную (y)\n",
    "x = df.drop('churn', axis = 1)\n",
    "y = df['churn']\n",
    "\n",
    "#Разделим выборку на обучающую 80% и валидационную 20%\n",
    "x_train, x_test, y_train, y_test = train_test_split(x, y, test_size=0.2, random_state=0, stratify=y)\n",
    "\n",
    "#Cтандартизируем данные\n",
    "scaler = StandardScaler()\n",
    "scaler.fit(x_train)\n",
    "\n",
    "x_train_st = scaler.transform(x_train)\n",
    "x_test_st = scaler.transform(x_test)"
   ]
  },
  {
   "cell_type": "markdown",
   "metadata": {},
   "source": [
    "### Обучение моделей \"Логистическая регрессия\" и \"Случайный лес\"  <a id='blok_32'></a>"
   ]
  },
  {
   "cell_type": "markdown",
   "metadata": {},
   "source": [
    "#### Построим модель  способом \"Логистическая регрессия\""
   ]
  },
  {
   "cell_type": "code",
   "execution_count": 15,
   "metadata": {},
   "outputs": [],
   "source": [
    "#Зададим алгоритм для модели\n",
    "logreg_model = LogisticRegression(random_state=0)\n",
    "\n",
    "#Обучим модель\n",
    "logreg_model.fit(x_train_st, y_train)\n",
    "\n",
    "#Воспользуемся обученной моделью, чтобы сделать прогнозы\n",
    "logreg_predictions = logreg_model.predict(x_test_st)\n",
    "logreg_probabilities = logreg_model.predict_proba(x_test_st)[:,1]"
   ]
  },
  {
   "cell_type": "markdown",
   "metadata": {},
   "source": [
    "#### Построим модель  способом \"Случайный лес\""
   ]
  },
  {
   "cell_type": "code",
   "execution_count": 16,
   "metadata": {},
   "outputs": [],
   "source": [
    "#Зададим алгоритм для модели\n",
    "randfor_model = RandomForestClassifier(random_state=0)\n",
    "\n",
    "#Обучим модель\n",
    "randfor_model.fit(x_train_st, y_train)\n",
    "\n",
    "#Воспользуемся обученной моделью, чтобы сделать прогнозы\n",
    "randfor_predictions = randfor_model.predict(x_test_st)\n",
    "randfor_probabilities = randfor_model.predict_proba(x_test_st)[:,1]"
   ]
  },
  {
   "cell_type": "markdown",
   "metadata": {},
   "source": [
    "### Оценка метрик и сравнение моделей <a id='blok_33'></a>"
   ]
  },
  {
   "cell_type": "code",
   "execution_count": 17,
   "metadata": {},
   "outputs": [],
   "source": [
    "#Напишем функцию для вывода метрики\n",
    "def print_metrics(y_true, y_pred, y_proba, model_name):\n",
    "    print(\"Метрики для модели \"+model_name)\n",
    "    print('Accuracy: {:.2f}'.format(accuracy_score(y_true, y_pred)))\n",
    "    print('Precision: {:.2f}'.format(precision_score(y_true, y_pred)))\n",
    "    print('Recall: {:.2f}'.format(recall_score(y_true, y_pred)))\n",
    "    print('F1: {:.2f}'.format(f1_score(y_true, y_pred)))\n",
    "    print('ROC_AUC: {:.2f}'.format(roc_auc_score(y_true, y_proba)))"
   ]
  },
  {
   "cell_type": "code",
   "execution_count": 18,
   "metadata": {},
   "outputs": [
    {
     "name": "stdout",
     "output_type": "stream",
     "text": [
      "Метрики для модели Логистическая регрессия\n",
      "Accuracy: 0.92\n",
      "Precision: 0.85\n",
      "Recall: 0.84\n",
      "F1: 0.84\n",
      "ROC_AUC: 0.97\n",
      "\n",
      "Метрики для модели Случайный лес\n",
      "Accuracy: 0.91\n",
      "Precision: 0.85\n",
      "Recall: 0.77\n",
      "F1: 0.81\n",
      "ROC_AUC: 0.96\n"
     ]
    }
   ],
   "source": [
    "#Вывод метрик для модели Логистическая регрессия\n",
    "print_metrics(y_test, logreg_predictions, logreg_probabilities, 'Логистическая регрессия')\n",
    "print()\n",
    "#Вывод метрик для модели случайного леса\n",
    "print_metrics(y_test, randfor_predictions, randfor_probabilities, 'Случайный лес')"
   ]
  },
  {
   "cell_type": "markdown",
   "metadata": {},
   "source": [
    "**ВЫВОД:**  \n",
    "Мы разделили выборку на обучащую и валидационную в соотношении 80:20 и стандартизировали данные.  \n",
    "Затем построили и обучили 2 модели: методом  логистической регрессии и случайного леса.\n",
    "\n",
    "У обеих моделей хорошие показатели метрик, и каждую из них можно было бы использовать для прогноза.  \n",
    "Но модель методом **логистической регрессии** проявила себя чуть лучше по показателям:  \n",
    "* Accuracy: точность прогнозирования 0.92\n",
    "* Precision: доля правильных ответов в пределах класса 0.85\n",
    "* Recall: количесто исстино положительных результатов 0.84\n",
    "* F1: обобщеная оценка метрик Precision и Recall 0.84\n",
    "* ROC_AUC: 0.97 "
   ]
  },
  {
   "cell_type": "markdown",
   "metadata": {},
   "source": [
    "## Кластеризация клиентов <a id='blok_4'></a>"
   ]
  },
  {
   "cell_type": "markdown",
   "metadata": {},
   "source": [
    "Отложим в сторону столбец с оттоком и проведем кластеризацию объектов (клиентов)"
   ]
  },
  {
   "cell_type": "markdown",
   "metadata": {},
   "source": [
    "### Стандартизация данных <a id='blok_41'></a>"
   ]
  },
  {
   "cell_type": "code",
   "execution_count": 19,
   "metadata": {},
   "outputs": [],
   "source": [
    "#Зададим \"стандартизатор\"\n",
    "scaler = StandardScaler()\n",
    "\n",
    "#Стандартизируем данные\n",
    "x_st = scaler.fit_transform(x)"
   ]
  },
  {
   "cell_type": "markdown",
   "metadata": {},
   "source": [
    "### Матрица расстояний и дендрограмма <a id='blok_42'></a>"
   ]
  },
  {
   "cell_type": "code",
   "execution_count": 20,
   "metadata": {
    "scrolled": false
   },
   "outputs": [
    {
     "data": {
      "image/png": "[encoded data removed]",
      "text/plain": [
       "<Figure size 1080x720 with 1 Axes>"
      ]
     },
     "metadata": {
      "needs_background": "light"
     },
     "output_type": "display_data"
    }
   ],
   "source": [
    "#Сохраним матрицу расстояний\n",
    "links = linkage(x_st, method = 'ward')\n",
    "\n",
    "#Построим дендрограмму\n",
    "plt.figure(figsize=(15, 10))\n",
    "plt.title('Кластеризация пользователей фитнес-центра')\n",
    "dendrogram(links, orientation='top')\n",
    "plt.show()"
   ]
  },
  {
   "cell_type": "markdown",
   "metadata": {},
   "source": [
    "На дендрограмме выделились 4 кластера, но 1 из них потенциально можно разделить еще на несколько"
   ]
  },
  {
   "cell_type": "markdown",
   "metadata": {},
   "source": [
    "### Кластеризации по алгоритму K-Means и прогнозирование кластеров клиентов <a id='blok_43'></a>"
   ]
  },
  {
   "cell_type": "markdown",
   "metadata": {},
   "source": [
    "Обучим модель кластеризации на основании алгоритма K-Means и спрогнозируем кластеры клиентов.   \n",
    "Согласно условиям проекта, за число кластеров принимаем n=5."
   ]
  },
  {
   "cell_type": "code",
   "execution_count": 21,
   "metadata": {},
   "outputs": [
    {
     "data": {
      "text/html": [
       "<div>\n",
       "<style scoped>\n",
       "    .dataframe tbody tr th:only-of-type {\n",
       "        vertical-align: middle;\n",
       "    }\n",
       "\n",
       "    .dataframe tbody tr th {\n",
       "        vertical-align: top;\n",
       "    }\n",
       "\n",
       "    .dataframe thead th {\n",
       "        text-align: right;\n",
       "    }\n",
       "</style>\n",
       "<table border=\"1\" class=\"dataframe\">\n",
       "  <thead>\n",
       "    <tr style=\"text-align: right;\">\n",
       "      <th></th>\n",
       "      <th>gender</th>\n",
       "      <th>near_location</th>\n",
       "      <th>partner</th>\n",
       "      <th>promo_friends</th>\n",
       "      <th>phone</th>\n",
       "      <th>contract_period</th>\n",
       "      <th>group_visits</th>\n",
       "      <th>age</th>\n",
       "      <th>avg_additional_charges_total</th>\n",
       "      <th>lifetime</th>\n",
       "      <th>avg_class_frequency_current_month</th>\n",
       "      <th>churn</th>\n",
       "      <th>cluster</th>\n",
       "    </tr>\n",
       "  </thead>\n",
       "  <tbody>\n",
       "    <tr>\n",
       "      <th>0</th>\n",
       "      <td>1</td>\n",
       "      <td>1</td>\n",
       "      <td>1</td>\n",
       "      <td>1</td>\n",
       "      <td>0</td>\n",
       "      <td>6</td>\n",
       "      <td>1</td>\n",
       "      <td>29</td>\n",
       "      <td>14.227470</td>\n",
       "      <td>3</td>\n",
       "      <td>0.000000</td>\n",
       "      <td>0</td>\n",
       "      <td>4</td>\n",
       "    </tr>\n",
       "    <tr>\n",
       "      <th>1</th>\n",
       "      <td>0</td>\n",
       "      <td>1</td>\n",
       "      <td>0</td>\n",
       "      <td>0</td>\n",
       "      <td>1</td>\n",
       "      <td>12</td>\n",
       "      <td>1</td>\n",
       "      <td>31</td>\n",
       "      <td>113.202938</td>\n",
       "      <td>7</td>\n",
       "      <td>1.910244</td>\n",
       "      <td>0</td>\n",
       "      <td>3</td>\n",
       "    </tr>\n",
       "    <tr>\n",
       "      <th>2</th>\n",
       "      <td>0</td>\n",
       "      <td>1</td>\n",
       "      <td>1</td>\n",
       "      <td>0</td>\n",
       "      <td>1</td>\n",
       "      <td>1</td>\n",
       "      <td>0</td>\n",
       "      <td>28</td>\n",
       "      <td>129.448479</td>\n",
       "      <td>2</td>\n",
       "      <td>1.736502</td>\n",
       "      <td>0</td>\n",
       "      <td>2</td>\n",
       "    </tr>\n",
       "    <tr>\n",
       "      <th>3</th>\n",
       "      <td>0</td>\n",
       "      <td>1</td>\n",
       "      <td>1</td>\n",
       "      <td>1</td>\n",
       "      <td>1</td>\n",
       "      <td>12</td>\n",
       "      <td>1</td>\n",
       "      <td>33</td>\n",
       "      <td>62.669863</td>\n",
       "      <td>2</td>\n",
       "      <td>3.357215</td>\n",
       "      <td>0</td>\n",
       "      <td>0</td>\n",
       "    </tr>\n",
       "    <tr>\n",
       "      <th>4</th>\n",
       "      <td>1</td>\n",
       "      <td>1</td>\n",
       "      <td>1</td>\n",
       "      <td>1</td>\n",
       "      <td>1</td>\n",
       "      <td>1</td>\n",
       "      <td>0</td>\n",
       "      <td>26</td>\n",
       "      <td>198.362265</td>\n",
       "      <td>3</td>\n",
       "      <td>1.120078</td>\n",
       "      <td>0</td>\n",
       "      <td>0</td>\n",
       "    </tr>\n",
       "  </tbody>\n",
       "</table>\n",
       "</div>"
      ],
      "text/plain": [
       "   gender  near_location  partner  promo_friends  phone  contract_period  \\\n",
       "0       1              1        1              1      0                6   \n",
       "1       0              1        0              0      1               12   \n",
       "2       0              1        1              0      1                1   \n",
       "3       0              1        1              1      1               12   \n",
       "4       1              1        1              1      1                1   \n",
       "\n",
       "   group_visits  age  avg_additional_charges_total  lifetime  \\\n",
       "0             1   29                     14.227470         3   \n",
       "1             1   31                    113.202938         7   \n",
       "2             0   28                    129.448479         2   \n",
       "3             1   33                     62.669863         2   \n",
       "4             0   26                    198.362265         3   \n",
       "\n",
       "   avg_class_frequency_current_month  churn  cluster  \n",
       "0                           0.000000      0        4  \n",
       "1                           1.910244      0        3  \n",
       "2                           1.736502      0        2  \n",
       "3                           3.357215      0        0  \n",
       "4                           1.120078      0        0  "
      ]
     },
     "execution_count": 21,
     "metadata": {},
     "output_type": "execute_result"
    }
   ],
   "source": [
    "km = KMeans(n_clusters = 5, random_state = 0) #Задаём число кластеров, равное 5\n",
    "labels = km.fit_predict(x_st) #Применяем алгоритм K-Means к данным и формируем вектор кластеров\n",
    "df['cluster'] = labels #Добавим столбец с номерами кластеров в исходный датафрейм\n",
    "df.head()"
   ]
  },
  {
   "cell_type": "markdown",
   "metadata": {},
   "source": [
    "### Средние значения признаков для кластеров <a id='blok_44'></a>"
   ]
  },
  {
   "cell_type": "code",
   "execution_count": 22,
   "metadata": {
    "scrolled": true
   },
   "outputs": [
    {
     "data": {
      "text/html": [
       "<div>\n",
       "<style scoped>\n",
       "    .dataframe tbody tr th:only-of-type {\n",
       "        vertical-align: middle;\n",
       "    }\n",
       "\n",
       "    .dataframe tbody tr th {\n",
       "        vertical-align: top;\n",
       "    }\n",
       "\n",
       "    .dataframe thead th {\n",
       "        text-align: right;\n",
       "    }\n",
       "</style>\n",
       "<table border=\"1\" class=\"dataframe\">\n",
       "  <thead>\n",
       "    <tr style=\"text-align: right;\">\n",
       "      <th>cluster</th>\n",
       "      <th>0</th>\n",
       "      <th>1</th>\n",
       "      <th>2</th>\n",
       "      <th>3</th>\n",
       "      <th>4</th>\n",
       "    </tr>\n",
       "  </thead>\n",
       "  <tbody>\n",
       "    <tr>\n",
       "      <th>gender</th>\n",
       "      <td>0.496447</td>\n",
       "      <td>0.500000</td>\n",
       "      <td>0.500940</td>\n",
       "      <td>0.534260</td>\n",
       "      <td>0.523316</td>\n",
       "    </tr>\n",
       "    <tr>\n",
       "      <th>near_location</th>\n",
       "      <td>0.995939</td>\n",
       "      <td>0.000000</td>\n",
       "      <td>1.000000</td>\n",
       "      <td>0.996028</td>\n",
       "      <td>0.862694</td>\n",
       "    </tr>\n",
       "    <tr>\n",
       "      <th>partner</th>\n",
       "      <td>0.892386</td>\n",
       "      <td>0.489247</td>\n",
       "      <td>0.217105</td>\n",
       "      <td>0.379345</td>\n",
       "      <td>0.471503</td>\n",
       "    </tr>\n",
       "    <tr>\n",
       "      <th>promo_friends</th>\n",
       "      <td>1.000000</td>\n",
       "      <td>0.078853</td>\n",
       "      <td>0.072368</td>\n",
       "      <td>0.009930</td>\n",
       "      <td>0.305699</td>\n",
       "    </tr>\n",
       "    <tr>\n",
       "      <th>phone</th>\n",
       "      <td>1.000000</td>\n",
       "      <td>1.000000</td>\n",
       "      <td>1.000000</td>\n",
       "      <td>1.000000</td>\n",
       "      <td>0.000000</td>\n",
       "    </tr>\n",
       "    <tr>\n",
       "      <th>contract_period</th>\n",
       "      <td>6.922843</td>\n",
       "      <td>2.994624</td>\n",
       "      <td>2.010338</td>\n",
       "      <td>6.208540</td>\n",
       "      <td>4.777202</td>\n",
       "    </tr>\n",
       "    <tr>\n",
       "      <th>group_visits</th>\n",
       "      <td>0.524873</td>\n",
       "      <td>0.232975</td>\n",
       "      <td>0.277256</td>\n",
       "      <td>0.538232</td>\n",
       "      <td>0.427461</td>\n",
       "    </tr>\n",
       "    <tr>\n",
       "      <th>age</th>\n",
       "      <td>29.606091</td>\n",
       "      <td>28.679211</td>\n",
       "      <td>27.583647</td>\n",
       "      <td>30.699106</td>\n",
       "      <td>29.297927</td>\n",
       "    </tr>\n",
       "    <tr>\n",
       "      <th>avg_additional_charges_total</th>\n",
       "      <td>153.424651</td>\n",
       "      <td>137.125763</td>\n",
       "      <td>119.339956</td>\n",
       "      <td>176.259567</td>\n",
       "      <td>144.208179</td>\n",
       "    </tr>\n",
       "    <tr>\n",
       "      <th>lifetime</th>\n",
       "      <td>4.283249</td>\n",
       "      <td>2.974910</td>\n",
       "      <td>1.922932</td>\n",
       "      <td>5.415094</td>\n",
       "      <td>3.940415</td>\n",
       "    </tr>\n",
       "    <tr>\n",
       "      <th>avg_class_frequency_current_month</th>\n",
       "      <td>1.919520</td>\n",
       "      <td>1.597146</td>\n",
       "      <td>1.203319</td>\n",
       "      <td>2.324220</td>\n",
       "      <td>1.723967</td>\n",
       "    </tr>\n",
       "    <tr>\n",
       "      <th>churn</th>\n",
       "      <td>0.119797</td>\n",
       "      <td>0.403226</td>\n",
       "      <td>0.563910</td>\n",
       "      <td>0.014896</td>\n",
       "      <td>0.266839</td>\n",
       "    </tr>\n",
       "  </tbody>\n",
       "</table>\n",
       "</div>"
      ],
      "text/plain": [
       "cluster                                     0           1           2  \\\n",
       "gender                               0.496447    0.500000    0.500940   \n",
       "near_location                        0.995939    0.000000    1.000000   \n",
       "partner                              0.892386    0.489247    0.217105   \n",
       "promo_friends                        1.000000    0.078853    0.072368   \n",
       "phone                                1.000000    1.000000    1.000000   \n",
       "contract_period                      6.922843    2.994624    2.010338   \n",
       "group_visits                         0.524873    0.232975    0.277256   \n",
       "age                                 29.606091   28.679211   27.583647   \n",
       "avg_additional_charges_total       153.424651  137.125763  119.339956   \n",
       "lifetime                             4.283249    2.974910    1.922932   \n",
       "avg_class_frequency_current_month    1.919520    1.597146    1.203319   \n",
       "churn                                0.119797    0.403226    0.563910   \n",
       "\n",
       "cluster                                     3           4  \n",
       "gender                               0.534260    0.523316  \n",
       "near_location                        0.996028    0.862694  \n",
       "partner                              0.379345    0.471503  \n",
       "promo_friends                        0.009930    0.305699  \n",
       "phone                                1.000000    0.000000  \n",
       "contract_period                      6.208540    4.777202  \n",
       "group_visits                         0.538232    0.427461  \n",
       "age                                 30.699106   29.297927  \n",
       "avg_additional_charges_total       176.259567  144.208179  \n",
       "lifetime                             5.415094    3.940415  \n",
       "avg_class_frequency_current_month    2.324220    1.723967  \n",
       "churn                                0.014896    0.266839  "
      ]
     },
     "execution_count": 22,
     "metadata": {},
     "output_type": "execute_result"
    }
   ],
   "source": [
    "#Выведем средние значения признаков для кластеров\n",
    "df.groupby('cluster').mean().T"
   ]
  },
  {
   "cell_type": "code",
   "execution_count": 23,
   "metadata": {},
   "outputs": [
    {
     "data": {
      "text/plain": [
       "2    1064\n",
       "3    1007\n",
       "0     985\n",
       "1     558\n",
       "4     386\n",
       "Name: cluster, dtype: int64"
      ]
     },
     "execution_count": 23,
     "metadata": {},
     "output_type": "execute_result"
    }
   ],
   "source": [
    "#Посмотрим на численность кластеров\n",
    "df.cluster.value_counts()"
   ]
  },
  {
   "cell_type": "markdown",
   "metadata": {},
   "source": [
    "Глядя на средние значения признаков для кластеров можно заметить, что для каждого кластера есть какие-то особенно характерные признаки: \n",
    "* **для 0 кластера** - здесь собраны клиенты, пришедшие по партнерским и дружественным абонементам и с самыми продолжительными абонементами 6мес+\n",
    "* **для 1 кластера** - клиенты не живут и не работают в районе фитнес-центра\n",
    "* **для 2 кластера** - клиенты с самым большим количеством уходов из сети, самым маленьким лайфтаймом и средним посещением в месяц\n",
    "* **для 3 кластера** - среди них практически нет пришедших с «приведи друга», здесь самые большие значения среднего возраста клиента, лайфтайма, средней выручки от смежных услуг и самый низкий показатель оттока \n",
    "* **для 4 кластера** - самый маленький кластер, здесь собраны клиенты без номера телефона"
   ]
  },
  {
   "cell_type": "markdown",
   "metadata": {},
   "source": [
    "### Распределения признаков для кластеров <a id='blok_45'></a>"
   ]
  },
  {
   "cell_type": "markdown",
   "metadata": {},
   "source": [
    "Для анализа распределения признаков кластеров мы построим:\n",
    "- столбчатые диаграммы для бинарных значений признаков (пол, близость к фитнес-центру, принадлежность к компании-партнёру, первый визит по акции \"Приведи друга\", наличие телефона, посещение групповых занятий)   \n",
    "- боксплоты для непрерывных переменных (возраст, лайфтайм, средняя частота посещений в неделю за месяц, выручка от доп.услуг)"
   ]
  },
  {
   "cell_type": "code",
   "execution_count": 24,
   "metadata": {
    "scrolled": true
   },
   "outputs": [
    {
     "data": {
      "image/png": "[encoded data removed]",
      "text/plain": [
       "<Figure size 360x360 with 1 Axes>"
      ]
     },
     "metadata": {
      "needs_background": "light"
     },
     "output_type": "display_data"
    },
    {
     "data": {
      "image/png": "[encoded data removed]",
      "text/plain": [
       "<Figure size 360x360 with 1 Axes>"
      ]
     },
     "metadata": {
      "needs_background": "light"
     },
     "output_type": "display_data"
    },
    {
     "data": {
      "image/png": "[encoded data removed]",
      "text/plain": [
       "<Figure size 360x360 with 1 Axes>"
      ]
     },
     "metadata": {
      "needs_background": "light"
     },
     "output_type": "display_data"
    },
    {
     "data": {
      "image/png": "[encoded data removed]",
      "text/plain": [
       "<Figure size 360x360 with 1 Axes>"
      ]
     },
     "metadata": {
      "needs_background": "light"
     },
     "output_type": "display_data"
    },
    {
     "data": {
      "image/png": "[encoded data removed]",
      "text/plain": [
       "<Figure size 360x360 with 1 Axes>"
      ]
     },
     "metadata": {
      "needs_background": "light"
     },
     "output_type": "display_data"
    },
    {
     "data": {
      "image/png": "[encoded data removed]",
      "text/plain": [
       "<Figure size 360x360 with 1 Axes>"
      ]
     },
     "metadata": {
      "needs_background": "light"
     },
     "output_type": "display_data"
    }
   ],
   "source": [
    "#Построим countplot-графики для бинарных признаков\n",
    "for col in ['gender', 'near_location', 'partner', 'promo_friends', 'phone', 'group_visits']:\n",
    "    plt.figure(figsize=(5, 5))\n",
    "    plt.title('Распределение признака '+ col)\n",
    "    plt.xlabel(col)\n",
    "    sns.countplot(x = df[col], hue='cluster', data=df, palette=\"Set3\")\n",
    "    plt.show()"
   ]
  },
  {
   "cell_type": "markdown",
   "metadata": {},
   "source": [
    "- Кластеры идентичны по распределению такого признака как пол.  \n",
    "- Кластер №1 собрал в себя почти всех, кто живет и работает далекго от фитнес-центра.\n",
    "- Для Кластера №2 в большей степени характерны клиенты, пришедшие с \"партнерки\". А для кластера №0 этот признак максимально нехарактерен.  \n",
    "- Клиенты, пришедшие с акции \"приведи друга\" собраны в кластере №0.\n",
    "- Контктные номера телефонов известные для всех кластеров, кроме №4.\n",
    "- Груповые занятие меньше всего предпочитает Кластер №2"
   ]
  },
  {
   "cell_type": "code",
   "execution_count": 25,
   "metadata": {},
   "outputs": [
    {
     "data": {
      "image/png": "[encoded data removed]",
      "text/plain": [
       "<Figure size 576x360 with 1 Axes>"
      ]
     },
     "metadata": {
      "needs_background": "light"
     },
     "output_type": "display_data"
    },
    {
     "data": {
      "image/png": "[encoded data removed]",
      "text/plain": [
       "<Figure size 576x360 with 1 Axes>"
      ]
     },
     "metadata": {
      "needs_background": "light"
     },
     "output_type": "display_data"
    },
    {
     "data": {
      "image/png": "[encoded data removed]",
      "text/plain": [
       "<Figure size 576x360 with 1 Axes>"
      ]
     },
     "metadata": {
      "needs_background": "light"
     },
     "output_type": "display_data"
    },
    {
     "data": {
      "image/png": "[encoded data removed]",
      "text/plain": [
       "<Figure size 576x360 with 1 Axes>"
      ]
     },
     "metadata": {
      "needs_background": "light"
     },
     "output_type": "display_data"
    }
   ],
   "source": [
    "#Построим графики для непрерывных переменных\n",
    "columns = ['age', 'lifetime','avg_class_frequency_current_month', 'avg_additional_charges_total'] #список интересующих нас признаков\n",
    "\n",
    "for col in columns:\n",
    "    plt.figure(figsize=(8, 5))\n",
    "    plt.title(\"Распределение по кластерам признака \"+col)\n",
    "    sns.boxplot(x='cluster',y=col, data=df, palette=\"rainbow\")\n",
    "    plt.xlabel('Кластеры')\n",
    "    plt.ylabel('значение признака')\n",
    "    plt.show()"
   ]
  },
  {
   "cell_type": "markdown",
   "metadata": {},
   "source": [
    "- Средний возраст примерно одинаковый, но чуть выше в кластере №3 тут же самые возрастные клиенты. И чуть ниже в кластере №2, тут можно встретить самых юных спортсменов.\n",
    "- Самый продолжительный фитнес стаж в кластере №3, среднее значение лайфтайма тут тоже выше остальных кластеров. А вот в кластере №2 ровно наоборот.\n",
    "- Чаще всего в среднем в зал ходят в кластере №3 (почти 3 раза в неделю), реже всего в кластере №2. Можно отметить, что в кластере №0 встречаются случаи 6 разового посещения центра.\n",
    "- Большую выручку в среднем приносит кластер №3. Хотя некотрые клиенты из кластеров №2 и №1 тоже оставляют большие суммы на допуслуги. Не ходить на фитнес и групповые тренировки, но посещать солярий и хамам это вполне возможно))"
   ]
  },
  {
   "cell_type": "markdown",
   "metadata": {},
   "source": [
    "### Доли оттока в кластерах <a id='blok_46'></a>"
   ]
  },
  {
   "cell_type": "markdown",
   "metadata": {},
   "source": [
    "Для каждого полученного кластера посчитаем долю оттока.  \n",
    "Посмотрм, отличаются ли они по доле оттока. Какие кластеры склонны к оттоку, а какие — надёжны."
   ]
  },
  {
   "cell_type": "code",
   "execution_count": 26,
   "metadata": {
    "scrolled": true
   },
   "outputs": [
    {
     "name": "stdout",
     "output_type": "stream",
     "text": [
      "Доля ушешдих клиетов в cluster\n",
      "0    0.119797\n",
      "1    0.403226\n",
      "2    0.563910\n",
      "3    0.014896\n",
      "4    0.266839\n",
      "Name: churn, dtype: float64 \n",
      "\n",
      "Доля ушедших клиентов приходяшихся на cluster\n",
      "0    0.111216\n",
      "1    0.212064\n",
      "2    0.565504\n",
      "3    0.014138\n",
      "4    0.097078\n",
      "Name: churn, dtype: float64 \n"
     ]
    }
   ],
   "source": [
    "print('Доля ушешдих клиетов в {} \\n'.format( df.groupby('cluster')['churn'].mean()))\n",
    "\n",
    "#Так как количество клиентов в кластерах неодинаковое, то нужно смотреть распределение оттока относительно всех клиентов\n",
    "print('Доля ушедших клиентов приходяшихся на {} '.format(df.groupby('cluster')['churn'].sum()/df['churn'].sum()))"
   ]
  },
  {
   "cell_type": "markdown",
   "metadata": {},
   "source": [
    "Самый большой отток клиентов идет по кластеру №2 - 56.5% и по кластеру №1 - 21%.  \n",
    "Самые лояльные клиенты из кластера №3, тут отток чуть меньше 1.5%"
   ]
  },
  {
   "cell_type": "markdown",
   "metadata": {},
   "source": [
    "### Выводы <a id='blok_47'></a>"
   ]
  },
  {
   "cell_type": "markdown",
   "metadata": {},
   "source": [
    "Нам удалось стандартизировать базу клиентов, построить матрицу расстояний и дендрограмму, провести кластеризацию по алгоритму K-Means и определить 5 кластеров с характерными особенностями признаков и проанализировать показатели оттока по каждому кластеру.   \n",
    "\n",
    "Обнаружить какого-то признака сильно влияющего на отток клиентов фитнес-центра не удалось. Но мы заметили, что те кто редко посещает фитнес и у кого небольшая продолжительность абонемента более склонны к оттоку. А те кто покупает абонементы на больший срок 6-12 месяцев, ходит на занятия чаще, посещает групповые тренировки и тратится на доп.услуги менее склонны к уходу."
   ]
  },
  {
   "cell_type": "markdown",
   "metadata": {},
   "source": [
    "##  Выводы <a id='blok_5'></a>"
   ]
  },
  {
   "cell_type": "markdown",
   "metadata": {},
   "source": [
    "Сформулируем основные выводы и предложим рекомендации для стратегии взаимодействия с клиентами и их удержания."
   ]
  },
  {
   "cell_type": "markdown",
   "metadata": {},
   "source": [
    "### Общие выводы <a id='blok_51'></a>"
   ]
  },
  {
   "cell_type": "markdown",
   "metadata": {},
   "source": [
    "База данных была в хорошем состоянии и практически не требовала корректировок.  \n",
    "\n",
    "Построенные модели прогнозирования оттока клиентов были созданы способами \"Логистическая регрессия\" и \"Случайный лес\", обе из которых показали хорошие результаты и могут использовать в дальнейшей аналитической работе центра.\n",
    "\n",
    "Кластеризация позволила определить 5 групп с характерными особенностями признаков и проанализировать показатели оттока по каждой. В результате анализа кластеров у нас есть **портрет идеального клиента**: \n",
    "- возраст около 30 лет\n",
    "- живет или работает недалеко от фитнес-центра\n",
    "- посещает групповые занятия\n",
    "- есть друзья, которые тоже посещают этот фитнес-центр\n",
    "- есть скидки/бонусы по каким-то партнерским программам\n",
    "- абонемент на 6 или 12 месяцев\n",
    "- пользуется дополнительными услугами центра (бар, солярий, массаж, спорттовары)."
   ]
  },
  {
   "cell_type": "markdown",
   "metadata": {},
   "source": [
    "### Рекомендации <a id='blok_52'></a>"
   ]
  },
  {
   "cell_type": "markdown",
   "metadata": {},
   "source": [
    "Менеджерам необходимо склонять клиентов к покупке абонементов с большим сроком, возможно маркетологам стоит разработать дополнительные стимулирующие акции или вдохновляющие промо.  \n",
    "\n",
    "Новых клиентов необходимо в первое время особенно опекать и уделять повышенное внимание, стимулируя к более частому посещению и групповым занятиям.  \n",
    "\n",
    "Необходимо простимулировать у клиентов пользование допуслугами центра. особенно у новеньких. Возможно предложить скидки или вообще бесплатные первые коктейли, посещения соляриев, массажа и тд.  \n",
    "\n",
    "Партнерские программы и промо-акции дают лояльных клиентов, можно продолжать работать в этом направлении.   \n",
    "\n",
    "Также стоит продолжить привлекать клиентов живущих и работающих в непосредственной близости к фитнес-центру (активне использовать геотаргетинг в интеренет реклами, чтоб тратить бюджет на определенную локацию, возможно реклама в лифтах и листовки)"
   ]
  }
 ],
 "metadata": {
  "ExecuteTimeLog": [
   {
    "duration": 482,
    "start_time": "2022-05-03T06:56:55.414Z"
   },
   {
    "duration": 20,
    "start_time": "2022-05-03T06:56:57.391Z"
   },
   {
    "duration": 4,
    "start_time": "2022-05-03T06:56:59.176Z"
   },
   {
    "duration": 17,
    "start_time": "2022-05-03T06:57:00.747Z"
   },
   {
    "duration": 28,
    "start_time": "2022-05-03T06:57:17.568Z"
   },
   {
    "duration": 79,
    "start_time": "2022-05-03T09:36:36.513Z"
   },
   {
    "duration": 514,
    "start_time": "2022-05-03T09:39:00.274Z"
   },
   {
    "duration": 22,
    "start_time": "2022-05-03T09:39:52.870Z"
   },
   {
    "duration": 4,
    "start_time": "2022-05-03T09:39:54.803Z"
   },
   {
    "duration": 31,
    "start_time": "2022-05-03T09:39:56.366Z"
   },
   {
    "duration": 17,
    "start_time": "2022-05-03T09:39:59.807Z"
   },
   {
    "duration": 73,
    "start_time": "2022-05-03T09:40:27.941Z"
   },
   {
    "duration": 6,
    "start_time": "2022-05-03T09:46:03.841Z"
   },
   {
    "duration": 74,
    "start_time": "2022-05-03T09:46:05.803Z"
   },
   {
    "duration": 12,
    "start_time": "2022-05-03T09:55:24.619Z"
   },
   {
    "duration": 10,
    "start_time": "2022-05-03T09:56:17.536Z"
   },
   {
    "duration": 24,
    "start_time": "2022-05-03T10:06:50.078Z"
   },
   {
    "duration": 680,
    "start_time": "2022-05-03T10:07:12.537Z"
   },
   {
    "duration": 189,
    "start_time": "2022-05-03T10:09:47.332Z"
   },
   {
    "duration": 19,
    "start_time": "2022-05-03T10:09:56.867Z"
   },
   {
    "duration": 18,
    "start_time": "2022-05-03T10:10:02.682Z"
   },
   {
    "duration": 19,
    "start_time": "2022-05-03T10:10:30.609Z"
   },
   {
    "duration": 18,
    "start_time": "2022-05-03T10:10:38.064Z"
   },
   {
    "duration": 14,
    "start_time": "2022-05-03T10:10:47.270Z"
   },
   {
    "duration": 12,
    "start_time": "2022-05-03T10:30:49.176Z"
   },
   {
    "duration": 517,
    "start_time": "2022-05-03T10:42:56.168Z"
   },
   {
    "duration": 20,
    "start_time": "2022-05-03T10:42:56.688Z"
   },
   {
    "duration": 4,
    "start_time": "2022-05-03T10:42:56.710Z"
   },
   {
    "duration": 54,
    "start_time": "2022-05-03T10:42:56.717Z"
   },
   {
    "duration": 21,
    "start_time": "2022-05-03T10:42:56.773Z"
   },
   {
    "duration": 12,
    "start_time": "2022-05-03T10:42:56.796Z"
   },
   {
    "duration": 13,
    "start_time": "2022-05-03T10:42:56.810Z"
   },
   {
    "duration": 91,
    "start_time": "2022-05-03T10:42:56.825Z"
   },
   {
    "duration": 436,
    "start_time": "2022-05-03T10:42:56.918Z"
   },
   {
    "duration": 132,
    "start_time": "2022-05-03T10:42:57.359Z"
   },
   {
    "duration": 4,
    "start_time": "2022-05-03T10:43:18.545Z"
   },
   {
    "duration": 16,
    "start_time": "2022-05-03T10:43:24.302Z"
   },
   {
    "duration": 706,
    "start_time": "2022-05-03T10:43:40.109Z"
   },
   {
    "duration": 1097,
    "start_time": "2022-05-03T10:43:46.644Z"
   },
   {
    "duration": 2044,
    "start_time": "2022-05-03T10:44:23.019Z"
   },
   {
    "duration": 1344,
    "start_time": "2022-05-03T10:48:08.171Z"
   },
   {
    "duration": 1372,
    "start_time": "2022-05-03T10:48:19.947Z"
   },
   {
    "duration": 2106,
    "start_time": "2022-05-03T10:50:13.769Z"
   },
   {
    "duration": 1341,
    "start_time": "2022-05-03T10:50:35.369Z"
   },
   {
    "duration": 1126,
    "start_time": "2022-05-03T10:52:35.456Z"
   },
   {
    "duration": 1571,
    "start_time": "2022-05-03T10:52:56.326Z"
   },
   {
    "duration": 1103,
    "start_time": "2022-05-03T10:57:32.788Z"
   },
   {
    "duration": 19,
    "start_time": "2022-05-03T11:03:38.348Z"
   },
   {
    "duration": 3162,
    "start_time": "2022-05-03T11:03:53.974Z"
   },
   {
    "duration": 3510,
    "start_time": "2022-05-03T11:04:19.100Z"
   },
   {
    "duration": 4456,
    "start_time": "2022-05-03T11:06:08.218Z"
   },
   {
    "duration": 4428,
    "start_time": "2022-05-03T11:06:32.950Z"
   },
   {
    "duration": 5380,
    "start_time": "2022-05-03T11:06:54.105Z"
   },
   {
    "duration": 8857,
    "start_time": "2022-05-03T11:07:58.818Z"
   },
   {
    "duration": 543,
    "start_time": "2022-05-03T11:08:27.355Z"
   },
   {
    "duration": 24,
    "start_time": "2022-05-03T11:14:47.508Z"
   },
   {
    "duration": 1672,
    "start_time": "2022-05-03T11:15:25.551Z"
   },
   {
    "duration": 1707,
    "start_time": "2022-05-03T11:17:12.134Z"
   },
   {
    "duration": 1533,
    "start_time": "2022-05-03T11:17:50.993Z"
   },
   {
    "duration": 1377,
    "start_time": "2022-05-03T11:18:02.796Z"
   },
   {
    "duration": 1492,
    "start_time": "2022-05-03T11:18:11.886Z"
   },
   {
    "duration": 1502,
    "start_time": "2022-05-03T11:19:08.491Z"
   },
   {
    "duration": 1425,
    "start_time": "2022-05-03T11:19:20.891Z"
   },
   {
    "duration": 1540,
    "start_time": "2022-05-03T11:19:43.566Z"
   },
   {
    "duration": 1609,
    "start_time": "2022-05-03T11:20:37.952Z"
   },
   {
    "duration": 1840,
    "start_time": "2022-05-03T11:21:55.085Z"
   },
   {
    "duration": 1798,
    "start_time": "2022-05-03T11:22:06.445Z"
   },
   {
    "duration": 4023,
    "start_time": "2022-05-03T11:22:50.871Z"
   },
   {
    "duration": 4184,
    "start_time": "2022-05-03T11:22:57.577Z"
   },
   {
    "duration": 4221,
    "start_time": "2022-05-03T11:25:11.092Z"
   },
   {
    "duration": 2660,
    "start_time": "2022-05-03T11:25:34.592Z"
   },
   {
    "duration": 1440,
    "start_time": "2022-05-03T11:26:53.696Z"
   },
   {
    "duration": 1628,
    "start_time": "2022-05-03T11:30:03.297Z"
   },
   {
    "duration": 1828,
    "start_time": "2022-05-03T11:30:23.343Z"
   },
   {
    "duration": 2040,
    "start_time": "2022-05-03T11:31:11.785Z"
   },
   {
    "duration": 1917,
    "start_time": "2022-05-03T11:31:32.035Z"
   },
   {
    "duration": 2105,
    "start_time": "2022-05-03T11:33:12.803Z"
   },
   {
    "duration": 1902,
    "start_time": "2022-05-03T11:33:45.626Z"
   },
   {
    "duration": 1259,
    "start_time": "2022-05-03T11:37:48.865Z"
   },
   {
    "duration": 4168,
    "start_time": "2022-05-03T11:39:23.060Z"
   },
   {
    "duration": 3661,
    "start_time": "2022-05-03T11:39:33.557Z"
   },
   {
    "duration": 129,
    "start_time": "2022-05-03T11:40:38.867Z"
   },
   {
    "duration": 120,
    "start_time": "2022-05-03T11:41:24.390Z"
   },
   {
    "duration": 113,
    "start_time": "2022-05-03T11:41:33.388Z"
   },
   {
    "duration": 101,
    "start_time": "2022-05-03T11:41:41.237Z"
   },
   {
    "duration": 6554,
    "start_time": "2022-05-03T11:42:02.621Z"
   },
   {
    "duration": 2184,
    "start_time": "2022-05-03T11:52:06.133Z"
   },
   {
    "duration": 1890,
    "start_time": "2022-05-03T11:52:39.884Z"
   },
   {
    "duration": 104,
    "start_time": "2022-05-03T11:54:28.944Z"
   },
   {
    "duration": 230,
    "start_time": "2022-05-03T11:55:38.445Z"
   },
   {
    "duration": 3993,
    "start_time": "2022-05-03T11:56:36.684Z"
   },
   {
    "duration": 1418,
    "start_time": "2022-05-03T12:01:35.945Z"
   },
   {
    "duration": 21,
    "start_time": "2022-05-03T12:01:37.366Z"
   },
   {
    "duration": 4,
    "start_time": "2022-05-03T12:01:37.390Z"
   },
   {
    "duration": 24,
    "start_time": "2022-05-03T12:01:37.396Z"
   },
   {
    "duration": 41,
    "start_time": "2022-05-03T12:01:37.423Z"
   },
   {
    "duration": 6,
    "start_time": "2022-05-03T12:01:37.466Z"
   },
   {
    "duration": 14,
    "start_time": "2022-05-03T12:01:37.474Z"
   },
   {
    "duration": 92,
    "start_time": "2022-05-03T12:01:37.490Z"
   },
   {
    "duration": 79,
    "start_time": "2022-05-03T12:01:37.584Z"
   },
   {
    "duration": 3,
    "start_time": "2022-05-03T12:01:37.666Z"
   },
   {
    "duration": 6,
    "start_time": "2022-05-03T12:01:37.671Z"
   },
   {
    "duration": 3076,
    "start_time": "2022-05-03T12:01:37.680Z"
   },
   {
    "duration": 1818,
    "start_time": "2022-05-03T12:01:40.758Z"
   },
   {
    "duration": 1564,
    "start_time": "2022-05-03T15:09:57.380Z"
   },
   {
    "duration": 21,
    "start_time": "2022-05-03T15:09:58.945Z"
   },
   {
    "duration": 7,
    "start_time": "2022-05-03T15:09:58.968Z"
   },
   {
    "duration": 24,
    "start_time": "2022-05-03T15:09:58.977Z"
   },
   {
    "duration": 29,
    "start_time": "2022-05-03T15:09:59.003Z"
   },
   {
    "duration": 23,
    "start_time": "2022-05-03T15:09:59.034Z"
   },
   {
    "duration": 26,
    "start_time": "2022-05-03T15:09:59.058Z"
   },
   {
    "duration": 48,
    "start_time": "2022-05-03T15:09:59.086Z"
   },
   {
    "duration": 43,
    "start_time": "2022-05-03T15:09:59.135Z"
   },
   {
    "duration": 2,
    "start_time": "2022-05-03T15:09:59.180Z"
   },
   {
    "duration": 20,
    "start_time": "2022-05-03T15:09:59.183Z"
   },
   {
    "duration": 1984,
    "start_time": "2022-05-03T15:09:59.204Z"
   },
   {
    "duration": 1270,
    "start_time": "2022-05-03T15:10:01.190Z"
   },
   {
    "duration": 1990,
    "start_time": "2022-05-03T15:11:39.854Z"
   },
   {
    "duration": 2515,
    "start_time": "2022-05-03T15:11:53.204Z"
   },
   {
    "duration": 134,
    "start_time": "2022-05-03T15:12:24.079Z"
   },
   {
    "duration": 1883,
    "start_time": "2022-05-03T15:12:30.990Z"
   },
   {
    "duration": 1913,
    "start_time": "2022-05-03T15:12:50.778Z"
   },
   {
    "duration": 1663,
    "start_time": "2022-05-03T15:13:05.393Z"
   },
   {
    "duration": 1782,
    "start_time": "2022-05-03T15:13:19.128Z"
   },
   {
    "duration": 2085,
    "start_time": "2022-05-03T15:14:04.353Z"
   },
   {
    "duration": 1950,
    "start_time": "2022-05-03T15:14:23.751Z"
   },
   {
    "duration": 1994,
    "start_time": "2022-05-03T15:14:47.837Z"
   },
   {
    "duration": 2061,
    "start_time": "2022-05-03T15:14:56.073Z"
   },
   {
    "duration": 1997,
    "start_time": "2022-05-03T15:15:25.153Z"
   },
   {
    "duration": 103,
    "start_time": "2022-05-03T15:17:06.587Z"
   },
   {
    "duration": 8,
    "start_time": "2022-05-03T15:17:12.980Z"
   },
   {
    "duration": 3562,
    "start_time": "2022-05-03T15:17:38.644Z"
   },
   {
    "duration": 1047,
    "start_time": "2022-05-03T15:19:03.668Z"
   },
   {
    "duration": 958,
    "start_time": "2022-05-03T15:19:33.346Z"
   },
   {
    "duration": 1496,
    "start_time": "2022-05-03T15:20:12.815Z"
   },
   {
    "duration": 1101,
    "start_time": "2022-05-03T15:20:35.248Z"
   },
   {
    "duration": 13,
    "start_time": "2022-05-03T15:20:45.507Z"
   },
   {
    "duration": 1085,
    "start_time": "2022-05-03T15:20:49.951Z"
   },
   {
    "duration": 985,
    "start_time": "2022-05-03T15:20:59.541Z"
   },
   {
    "duration": 1973,
    "start_time": "2022-05-03T15:27:15.887Z"
   },
   {
    "duration": 1910,
    "start_time": "2022-05-03T15:27:31.348Z"
   },
   {
    "duration": 1925,
    "start_time": "2022-05-03T15:27:46.368Z"
   },
   {
    "duration": 3259,
    "start_time": "2022-05-03T15:27:58.879Z"
   },
   {
    "duration": 1953,
    "start_time": "2022-05-03T15:28:05.167Z"
   },
   {
    "duration": 1844,
    "start_time": "2022-05-03T15:31:21.320Z"
   },
   {
    "duration": 1472,
    "start_time": "2022-05-03T15:31:56.489Z"
   },
   {
    "duration": 1824,
    "start_time": "2022-05-03T15:32:31.257Z"
   },
   {
    "duration": 1375,
    "start_time": "2022-05-03T15:42:14.884Z"
   },
   {
    "duration": 1319,
    "start_time": "2022-05-03T15:42:23.579Z"
   },
   {
    "duration": 1533,
    "start_time": "2022-05-03T15:43:00.839Z"
   },
   {
    "duration": 1314,
    "start_time": "2022-05-03T15:43:33.328Z"
   },
   {
    "duration": 1326,
    "start_time": "2022-05-03T15:46:04.688Z"
   },
   {
    "duration": 3,
    "start_time": "2022-05-03T15:50:30.413Z"
   },
   {
    "duration": 887,
    "start_time": "2022-05-03T15:51:07.725Z"
   },
   {
    "duration": 1014,
    "start_time": "2022-05-03T15:51:21.760Z"
   },
   {
    "duration": 894,
    "start_time": "2022-05-03T15:51:45.797Z"
   },
   {
    "duration": 1547,
    "start_time": "2022-05-03T15:57:17.135Z"
   },
   {
    "duration": 22,
    "start_time": "2022-05-03T15:57:18.684Z"
   },
   {
    "duration": 43,
    "start_time": "2022-05-03T15:57:18.710Z"
   },
   {
    "duration": 20,
    "start_time": "2022-05-03T15:57:18.755Z"
   },
   {
    "duration": 20,
    "start_time": "2022-05-03T15:57:18.777Z"
   },
   {
    "duration": 16,
    "start_time": "2022-05-03T15:57:18.799Z"
   },
   {
    "duration": 27,
    "start_time": "2022-05-03T15:57:18.817Z"
   },
   {
    "duration": 71,
    "start_time": "2022-05-03T15:57:18.846Z"
   },
   {
    "duration": 46,
    "start_time": "2022-05-03T15:57:18.919Z"
   },
   {
    "duration": 1925,
    "start_time": "2022-05-03T15:57:18.967Z"
   },
   {
    "duration": 985,
    "start_time": "2022-05-03T15:57:20.893Z"
   },
   {
    "duration": 1027,
    "start_time": "2022-05-03T15:57:21.880Z"
   },
   {
    "duration": 2048,
    "start_time": "2022-05-03T15:57:57.889Z"
   },
   {
    "duration": 6,
    "start_time": "2022-05-03T16:03:21.076Z"
   },
   {
    "duration": 156,
    "start_time": "2022-05-03T16:25:49.782Z"
   },
   {
    "duration": 379,
    "start_time": "2022-05-03T16:26:46.014Z"
   },
   {
    "duration": 25,
    "start_time": "2022-05-03T16:26:59.030Z"
   },
   {
    "duration": 19,
    "start_time": "2022-05-03T16:27:05.876Z"
   },
   {
    "duration": 4,
    "start_time": "2022-05-03T16:27:34.677Z"
   },
   {
    "duration": 17,
    "start_time": "2022-05-03T16:27:41.542Z"
   },
   {
    "duration": 4,
    "start_time": "2022-05-03T16:27:58.657Z"
   },
   {
    "duration": 16,
    "start_time": "2022-05-03T16:28:05.241Z"
   },
   {
    "duration": 180,
    "start_time": "2022-05-03T16:28:08.675Z"
   },
   {
    "duration": 15,
    "start_time": "2022-05-03T16:29:50.897Z"
   },
   {
    "duration": 33,
    "start_time": "2022-05-03T16:30:05.913Z"
   },
   {
    "duration": 344,
    "start_time": "2022-05-03T16:30:11.945Z"
   },
   {
    "duration": 2126,
    "start_time": "2022-05-03T16:37:53.460Z"
   },
   {
    "duration": 20,
    "start_time": "2022-05-03T16:37:55.588Z"
   },
   {
    "duration": 4,
    "start_time": "2022-05-03T16:37:55.611Z"
   },
   {
    "duration": 38,
    "start_time": "2022-05-03T16:37:55.618Z"
   },
   {
    "duration": 13,
    "start_time": "2022-05-03T16:37:55.659Z"
   },
   {
    "duration": 20,
    "start_time": "2022-05-03T16:37:55.674Z"
   },
   {
    "duration": 25,
    "start_time": "2022-05-03T16:37:55.697Z"
   },
   {
    "duration": 63,
    "start_time": "2022-05-03T16:37:55.724Z"
   },
   {
    "duration": 78,
    "start_time": "2022-05-03T16:37:55.789Z"
   },
   {
    "duration": 3368,
    "start_time": "2022-05-03T16:37:55.871Z"
   },
   {
    "duration": 1770,
    "start_time": "2022-05-03T16:37:59.241Z"
   },
   {
    "duration": 1393,
    "start_time": "2022-05-03T16:38:01.014Z"
   },
   {
    "duration": 5,
    "start_time": "2022-05-03T16:38:02.410Z"
   },
   {
    "duration": 37,
    "start_time": "2022-05-03T16:38:02.418Z"
   },
   {
    "duration": 18,
    "start_time": "2022-05-03T16:38:02.457Z"
   },
   {
    "duration": 432,
    "start_time": "2022-05-03T16:38:02.555Z"
   },
   {
    "duration": 4,
    "start_time": "2022-05-03T16:38:02.989Z"
   },
   {
    "duration": 136,
    "start_time": "2022-05-03T16:38:02.995Z"
   },
   {
    "duration": 4,
    "start_time": "2022-05-03T16:38:46.091Z"
   },
   {
    "duration": 16,
    "start_time": "2022-05-03T16:38:53.232Z"
   },
   {
    "duration": 17,
    "start_time": "2022-05-03T16:41:11.270Z"
   },
   {
    "duration": 6,
    "start_time": "2022-05-03T16:42:17.421Z"
   },
   {
    "duration": 17,
    "start_time": "2022-05-03T16:42:19.241Z"
   },
   {
    "duration": 7,
    "start_time": "2022-05-03T16:42:33.181Z"
   },
   {
    "duration": 19,
    "start_time": "2022-05-03T16:42:35.521Z"
   },
   {
    "duration": 5,
    "start_time": "2022-05-03T16:42:50.955Z"
   },
   {
    "duration": 23,
    "start_time": "2022-05-03T16:42:53.352Z"
   },
   {
    "duration": 9,
    "start_time": "2022-05-03T16:59:35.584Z"
   },
   {
    "duration": 11,
    "start_time": "2022-05-03T17:00:43.320Z"
   },
   {
    "duration": 3,
    "start_time": "2022-05-03T17:02:04.149Z"
   },
   {
    "duration": 105435,
    "start_time": "2022-05-03T17:02:10.183Z"
   },
   {
    "duration": 11,
    "start_time": "2022-05-03T17:09:08.522Z"
   },
   {
    "duration": 20,
    "start_time": "2022-05-03T17:09:38.358Z"
   },
   {
    "duration": 12,
    "start_time": "2022-05-03T17:09:42.938Z"
   },
   {
    "duration": 1436,
    "start_time": "2022-05-03T17:10:42.922Z"
   },
   {
    "duration": 1753,
    "start_time": "2022-05-03T17:11:22.902Z"
   },
   {
    "duration": 1205,
    "start_time": "2022-05-03T17:14:06.365Z"
   },
   {
    "duration": 1369,
    "start_time": "2022-05-03T17:14:51.793Z"
   },
   {
    "duration": 16,
    "start_time": "2022-05-03T17:15:27.764Z"
   },
   {
    "duration": 1636,
    "start_time": "2022-05-03T18:28:23.570Z"
   },
   {
    "duration": 27,
    "start_time": "2022-05-03T18:28:25.208Z"
   },
   {
    "duration": 4,
    "start_time": "2022-05-03T18:28:25.238Z"
   },
   {
    "duration": 31,
    "start_time": "2022-05-03T18:28:25.244Z"
   },
   {
    "duration": 13,
    "start_time": "2022-05-03T18:28:25.277Z"
   },
   {
    "duration": 6,
    "start_time": "2022-05-03T18:28:25.291Z"
   },
   {
    "duration": 10,
    "start_time": "2022-05-03T18:28:25.299Z"
   },
   {
    "duration": 73,
    "start_time": "2022-05-03T18:28:25.311Z"
   },
   {
    "duration": 48,
    "start_time": "2022-05-03T18:28:25.386Z"
   },
   {
    "duration": 2109,
    "start_time": "2022-05-03T18:28:25.436Z"
   },
   {
    "duration": 1058,
    "start_time": "2022-05-03T18:28:27.554Z"
   },
   {
    "duration": 934,
    "start_time": "2022-05-03T18:28:28.613Z"
   },
   {
    "duration": 4,
    "start_time": "2022-05-03T18:28:29.549Z"
   },
   {
    "duration": 17,
    "start_time": "2022-05-03T18:28:29.554Z"
   },
   {
    "duration": 83,
    "start_time": "2022-05-03T18:28:29.572Z"
   },
   {
    "duration": 444,
    "start_time": "2022-05-03T18:28:29.658Z"
   },
   {
    "duration": 4,
    "start_time": "2022-05-03T18:28:30.104Z"
   },
   {
    "duration": 19,
    "start_time": "2022-05-03T18:28:30.110Z"
   },
   {
    "duration": 7,
    "start_time": "2022-05-03T18:28:30.131Z"
   },
   {
    "duration": 98202,
    "start_time": "2022-05-03T18:28:30.154Z"
   },
   {
    "duration": 1503,
    "start_time": "2022-05-03T18:30:08.358Z"
   },
   {
    "duration": 16,
    "start_time": "2022-05-03T18:30:09.863Z"
   },
   {
    "duration": 13,
    "start_time": "2022-05-03T18:32:56.015Z"
   },
   {
    "duration": 6,
    "start_time": "2022-05-03T18:34:06.724Z"
   },
   {
    "duration": 1097,
    "start_time": "2022-05-03T18:53:34.076Z"
   },
   {
    "duration": 920,
    "start_time": "2022-05-03T18:53:52.241Z"
   },
   {
    "duration": 957,
    "start_time": "2022-05-03T18:54:48.799Z"
   },
   {
    "duration": 826,
    "start_time": "2022-05-03T18:55:38.948Z"
   },
   {
    "duration": 925,
    "start_time": "2022-05-03T18:55:44.281Z"
   },
   {
    "duration": 820,
    "start_time": "2022-05-03T18:55:49.294Z"
   },
   {
    "duration": 222,
    "start_time": "2022-05-03T18:55:53.424Z"
   },
   {
    "duration": 978,
    "start_time": "2022-05-03T18:55:58.789Z"
   },
   {
    "duration": 1817,
    "start_time": "2022-05-04T08:11:38.820Z"
   },
   {
    "duration": 23,
    "start_time": "2022-05-04T08:11:40.639Z"
   },
   {
    "duration": 3,
    "start_time": "2022-05-04T08:11:40.664Z"
   },
   {
    "duration": 19,
    "start_time": "2022-05-04T08:11:40.669Z"
   },
   {
    "duration": 12,
    "start_time": "2022-05-04T08:11:40.689Z"
   },
   {
    "duration": 20,
    "start_time": "2022-05-04T08:11:40.703Z"
   },
   {
    "duration": 10,
    "start_time": "2022-05-04T08:11:40.725Z"
   },
   {
    "duration": 43,
    "start_time": "2022-05-04T08:11:40.737Z"
   },
   {
    "duration": 66,
    "start_time": "2022-05-04T08:11:40.781Z"
   },
   {
    "duration": 2047,
    "start_time": "2022-05-04T08:11:40.849Z"
   },
   {
    "duration": 1093,
    "start_time": "2022-05-04T08:11:42.898Z"
   },
   {
    "duration": 994,
    "start_time": "2022-05-04T08:11:43.993Z"
   },
   {
    "duration": 5,
    "start_time": "2022-05-04T08:11:44.989Z"
   },
   {
    "duration": 15,
    "start_time": "2022-05-04T08:11:44.996Z"
   },
   {
    "duration": 110,
    "start_time": "2022-05-04T08:11:45.013Z"
   },
   {
    "duration": 427,
    "start_time": "2022-05-04T08:11:45.125Z"
   },
   {
    "duration": 5,
    "start_time": "2022-05-04T08:11:45.554Z"
   },
   {
    "duration": 18,
    "start_time": "2022-05-04T08:11:45.560Z"
   },
   {
    "duration": 7,
    "start_time": "2022-05-04T08:11:45.580Z"
   },
   {
    "duration": 104703,
    "start_time": "2022-05-04T08:11:45.589Z"
   },
   {
    "duration": 1436,
    "start_time": "2022-05-04T08:13:30.294Z"
   },
   {
    "duration": 13,
    "start_time": "2022-05-04T08:13:31.732Z"
   },
   {
    "duration": 6,
    "start_time": "2022-05-04T08:13:31.746Z"
   },
   {
    "duration": 1088,
    "start_time": "2022-05-04T08:13:31.755Z"
   },
   {
    "duration": 225,
    "start_time": "2022-05-04T08:24:20.579Z"
   },
   {
    "duration": 397,
    "start_time": "2022-05-04T08:25:09.719Z"
   },
   {
    "duration": 462,
    "start_time": "2022-05-04T08:25:51.497Z"
   },
   {
    "duration": 591,
    "start_time": "2022-05-04T08:26:07.242Z"
   },
   {
    "duration": 389,
    "start_time": "2022-05-04T08:26:39.668Z"
   },
   {
    "duration": 372,
    "start_time": "2022-05-04T08:28:29.862Z"
   },
   {
    "duration": 629,
    "start_time": "2022-05-04T08:30:13.941Z"
   },
   {
    "duration": 672,
    "start_time": "2022-05-04T08:30:39.841Z"
   },
   {
    "duration": 597,
    "start_time": "2022-05-04T08:31:10.158Z"
   },
   {
    "duration": 298,
    "start_time": "2022-05-04T08:33:35.742Z"
   },
   {
    "duration": 909,
    "start_time": "2022-05-04T08:34:14.435Z"
   },
   {
    "duration": 316,
    "start_time": "2022-05-04T08:35:17.324Z"
   },
   {
    "duration": 904,
    "start_time": "2022-05-04T08:35:51.922Z"
   },
   {
    "duration": 1067,
    "start_time": "2022-05-04T08:36:13.480Z"
   },
   {
    "duration": 1166,
    "start_time": "2022-05-04T08:39:21.121Z"
   },
   {
    "duration": 1151,
    "start_time": "2022-05-04T08:39:29.326Z"
   },
   {
    "duration": 1333,
    "start_time": "2022-05-04T08:39:45.507Z"
   },
   {
    "duration": 318,
    "start_time": "2022-05-04T08:44:44.792Z"
   },
   {
    "duration": 346,
    "start_time": "2022-05-04T08:45:01.267Z"
   },
   {
    "duration": 440,
    "start_time": "2022-05-04T08:46:55.185Z"
   },
   {
    "duration": 327,
    "start_time": "2022-05-04T08:47:13.121Z"
   },
   {
    "duration": 460,
    "start_time": "2022-05-04T08:47:47.639Z"
   },
   {
    "duration": 432,
    "start_time": "2022-05-04T08:50:06.441Z"
   },
   {
    "duration": 339,
    "start_time": "2022-05-04T08:50:21.209Z"
   },
   {
    "duration": 456,
    "start_time": "2022-05-04T08:51:04.858Z"
   },
   {
    "duration": 203,
    "start_time": "2022-05-04T08:56:49.255Z"
   },
   {
    "duration": 18,
    "start_time": "2022-05-04T08:57:00.593Z"
   },
   {
    "duration": 865,
    "start_time": "2022-05-04T08:57:07.467Z"
   },
   {
    "duration": 746,
    "start_time": "2022-05-04T08:57:19.576Z"
   },
   {
    "duration": 592,
    "start_time": "2022-05-04T08:57:32.449Z"
   },
   {
    "duration": 5,
    "start_time": "2022-05-04T09:04:01.309Z"
   },
   {
    "duration": 6,
    "start_time": "2022-05-04T09:04:32.972Z"
   },
   {
    "duration": 14,
    "start_time": "2022-05-04T09:04:47.990Z"
   },
   {
    "duration": 13,
    "start_time": "2022-05-04T09:05:02.457Z"
   },
   {
    "duration": 14,
    "start_time": "2022-05-04T09:05:39.170Z"
   },
   {
    "duration": 7,
    "start_time": "2022-05-04T09:05:43.192Z"
   },
   {
    "duration": 11,
    "start_time": "2022-05-04T09:06:29.766Z"
   },
   {
    "duration": 12,
    "start_time": "2022-05-04T09:06:33.840Z"
   },
   {
    "duration": 7,
    "start_time": "2022-05-04T09:07:09.006Z"
   },
   {
    "duration": 12,
    "start_time": "2022-05-04T09:11:42.350Z"
   },
   {
    "duration": 6,
    "start_time": "2022-05-04T09:11:54.666Z"
   },
   {
    "duration": 9,
    "start_time": "2022-05-04T09:14:44.687Z"
   },
   {
    "duration": 5,
    "start_time": "2022-05-04T09:15:19.598Z"
   },
   {
    "duration": 17,
    "start_time": "2022-05-04T09:15:30.758Z"
   },
   {
    "duration": 11,
    "start_time": "2022-05-04T09:15:41.540Z"
   },
   {
    "duration": 6,
    "start_time": "2022-05-04T09:15:53.699Z"
   },
   {
    "duration": 10,
    "start_time": "2022-05-04T09:17:44.699Z"
   },
   {
    "duration": 12,
    "start_time": "2022-05-04T09:17:59.591Z"
   },
   {
    "duration": 14,
    "start_time": "2022-05-04T09:18:14.853Z"
   },
   {
    "duration": 12,
    "start_time": "2022-05-04T09:18:22.088Z"
   },
   {
    "duration": 9,
    "start_time": "2022-05-04T09:18:59.444Z"
   },
   {
    "duration": 8,
    "start_time": "2022-05-04T09:19:08.572Z"
   },
   {
    "duration": 7,
    "start_time": "2022-05-04T09:19:38.902Z"
   },
   {
    "duration": 8,
    "start_time": "2022-05-04T09:19:45.598Z"
   },
   {
    "duration": 203,
    "start_time": "2022-05-04T09:19:49.028Z"
   },
   {
    "duration": 8,
    "start_time": "2022-05-04T09:19:58.933Z"
   },
   {
    "duration": 8,
    "start_time": "2022-05-04T09:20:17.730Z"
   },
   {
    "duration": 8,
    "start_time": "2022-05-04T09:20:30.200Z"
   },
   {
    "duration": 9,
    "start_time": "2022-05-04T09:20:38.197Z"
   },
   {
    "duration": 8,
    "start_time": "2022-05-04T09:21:07.440Z"
   },
   {
    "duration": 9,
    "start_time": "2022-05-04T09:21:21.143Z"
   },
   {
    "duration": 878,
    "start_time": "2022-05-04T09:50:51.287Z"
   },
   {
    "duration": 990,
    "start_time": "2022-05-04T09:50:55.935Z"
   },
   {
    "duration": 869,
    "start_time": "2022-05-04T09:51:02.483Z"
   },
   {
    "duration": 1647,
    "start_time": "2022-05-04T09:57:09.026Z"
   },
   {
    "duration": 23,
    "start_time": "2022-05-04T09:57:10.675Z"
   },
   {
    "duration": 3,
    "start_time": "2022-05-04T09:57:10.700Z"
   },
   {
    "duration": 18,
    "start_time": "2022-05-04T09:57:10.705Z"
   },
   {
    "duration": 11,
    "start_time": "2022-05-04T09:57:10.725Z"
   },
   {
    "duration": 6,
    "start_time": "2022-05-04T09:57:10.738Z"
   },
   {
    "duration": 9,
    "start_time": "2022-05-04T09:57:10.746Z"
   },
   {
    "duration": 73,
    "start_time": "2022-05-04T09:57:10.757Z"
   },
   {
    "duration": 47,
    "start_time": "2022-05-04T09:57:10.832Z"
   },
   {
    "duration": 2143,
    "start_time": "2022-05-04T09:57:10.882Z"
   },
   {
    "duration": 1140,
    "start_time": "2022-05-04T09:57:13.027Z"
   },
   {
    "duration": 955,
    "start_time": "2022-05-04T09:57:14.168Z"
   },
   {
    "duration": 4,
    "start_time": "2022-05-04T09:57:15.126Z"
   },
   {
    "duration": 27,
    "start_time": "2022-05-04T09:57:15.133Z"
   },
   {
    "duration": 67,
    "start_time": "2022-05-04T09:57:15.162Z"
   },
   {
    "duration": 532,
    "start_time": "2022-05-04T09:57:15.232Z"
   },
   {
    "duration": 4,
    "start_time": "2022-05-04T09:57:15.765Z"
   },
   {
    "duration": 34,
    "start_time": "2022-05-04T09:57:15.771Z"
   },
   {
    "duration": 18,
    "start_time": "2022-05-04T09:57:15.807Z"
   },
   {
    "duration": 105007,
    "start_time": "2022-05-04T09:57:15.827Z"
   },
   {
    "duration": 1394,
    "start_time": "2022-05-04T09:59:00.836Z"
   },
   {
    "duration": 14,
    "start_time": "2022-05-04T09:59:02.231Z"
   },
   {
    "duration": 7,
    "start_time": "2022-05-04T09:59:02.247Z"
   },
   {
    "duration": 1120,
    "start_time": "2022-05-04T09:59:02.256Z"
   },
   {
    "duration": 609,
    "start_time": "2022-05-04T09:59:03.378Z"
   },
   {
    "duration": 9,
    "start_time": "2022-05-04T09:59:03.988Z"
   },
   {
    "duration": 1603,
    "start_time": "2022-05-05T08:38:55.048Z"
   },
   {
    "duration": 16,
    "start_time": "2022-05-05T08:38:56.653Z"
   },
   {
    "duration": 3,
    "start_time": "2022-05-05T08:38:56.670Z"
   },
   {
    "duration": 29,
    "start_time": "2022-05-05T08:38:56.675Z"
   },
   {
    "duration": 12,
    "start_time": "2022-05-05T08:38:56.706Z"
   },
   {
    "duration": 12,
    "start_time": "2022-05-05T08:38:56.723Z"
   },
   {
    "duration": 14,
    "start_time": "2022-05-05T08:38:56.737Z"
   },
   {
    "duration": 43,
    "start_time": "2022-05-05T08:38:56.752Z"
   },
   {
    "duration": 55,
    "start_time": "2022-05-05T08:38:56.797Z"
   },
   {
    "duration": 1971,
    "start_time": "2022-05-05T08:38:56.855Z"
   },
   {
    "duration": 1015,
    "start_time": "2022-05-05T08:38:58.828Z"
   },
   {
    "duration": 895,
    "start_time": "2022-05-05T08:38:59.845Z"
   },
   {
    "duration": 4,
    "start_time": "2022-05-05T08:39:00.742Z"
   },
   {
    "duration": 26,
    "start_time": "2022-05-05T08:39:00.748Z"
   },
   {
    "duration": 51,
    "start_time": "2022-05-05T08:39:00.776Z"
   },
   {
    "duration": 538,
    "start_time": "2022-05-05T08:39:00.829Z"
   },
   {
    "duration": 4,
    "start_time": "2022-05-05T08:39:01.369Z"
   },
   {
    "duration": 43,
    "start_time": "2022-05-05T08:39:01.375Z"
   },
   {
    "duration": 23,
    "start_time": "2022-05-05T08:39:01.420Z"
   },
   {
    "duration": 103224,
    "start_time": "2022-05-05T08:39:01.445Z"
   },
   {
    "duration": 863,
    "start_time": "2022-05-05T08:40:44.671Z"
   },
   {
    "duration": 94,
    "start_time": "2022-05-05T08:40:45.536Z"
   },
   {
    "duration": 5,
    "start_time": "2022-05-05T08:40:45.632Z"
   },
   {
    "duration": 1143,
    "start_time": "2022-05-05T08:40:45.638Z"
   },
   {
    "duration": 652,
    "start_time": "2022-05-05T08:40:46.783Z"
   },
   {
    "duration": 8,
    "start_time": "2022-05-05T08:40:47.436Z"
   }
  ],
  "kernelspec": {
   "display_name": "Python 3 (ipykernel)",
   "language": "python",
   "name": "python3"
  },
  "language_info": {
   "codemirror_mode": {
    "name": "ipython",
    "version": 3
   },
   "file_extension": ".py",
   "mimetype": "text/x-python",
   "name": "python",
   "nbconvert_exporter": "python",
   "pygments_lexer": "ipython3",
   "version": "3.9.7"
  },
  "toc": {
   "base_numbering": 1,
   "nav_menu": {},
   "number_sections": true,
   "sideBar": true,
   "skip_h1_title": true,
   "title_cell": "Table of Contents",
   "title_sidebar": "Contents",
   "toc_cell": false,
   "toc_position": {
    "height": "calc(100% - 180px)",
    "left": "10px",
    "top": "150px",
    "width": "302.378px"
   },
   "toc_section_display": true,
   "toc_window_display": true
  }
 },
 "nbformat": 4,
 "nbformat_minor": 2
}
